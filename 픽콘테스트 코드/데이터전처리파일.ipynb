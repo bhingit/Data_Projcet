{
 "cells": [
  {
   "cell_type": "markdown",
   "id": "b0ecac5c",
   "metadata": {},
   "source": [
    "## 모듈 import"
   ]
  },
  {
   "cell_type": "code",
   "execution_count": 1,
   "id": "fdac8213",
   "metadata": {},
   "outputs": [],
   "source": [
    "import pandas as pd\n",
    "import numpy as np\n",
    "pd.set_option('display.max_columns', None)\n",
    "\n",
    "import matplotlib.pyplot as plt\n",
    "import seaborn as sns\n",
    "\n",
    "import matplotlib.font_manager as fm\n",
    "from matplotlib import rc\n",
    "\n",
    "plt.rcParams['axes.unicode_minus']=False\n",
    "plt.rcParams['font.family']='NanumGothic'\n",
    "%matplotlib inline "
   ]
  },
  {
   "cell_type": "code",
   "execution_count": 42,
   "id": "5688d68e",
   "metadata": {},
   "outputs": [],
   "source": [
    "from sklearn.preprocessing import StandardScaler, MinMaxScaler, RobustScaler, MaxAbsScaler\n",
    "from sklearn.metrics import r2_score\n",
    "from sklearn.model_selection import train_test_split\n",
    "from sklearn.metrics import mean_squared_error\n",
    "\n",
    "from sklearn.model_selection import GridSearchCV\n",
    "from xgboost import XGBRegressor\n",
    "from lightgbm import LGBMRegressor"
   ]
  },
  {
   "cell_type": "code",
   "execution_count": 72,
   "id": "3d8a8d16",
   "metadata": {},
   "outputs": [],
   "source": [
    "from sklearn.linear_model import LinearRegression, Ridge, Lasso\n",
    "import joblib"
   ]
  },
  {
   "cell_type": "markdown",
   "id": "9d1ab623",
   "metadata": {},
   "source": [
    "## 파일 불러오기"
   ]
  },
  {
   "cell_type": "code",
   "execution_count": 2,
   "id": "0b4165da",
   "metadata": {},
   "outputs": [],
   "source": [
    "loan_result_pd = pd.read_csv(\"../사용데이터/loan_result.csv\")\n",
    "user_spec_pd = pd.read_csv(\"../사용데이터/user_spec.csv\")"
   ]
  },
  {
   "cell_type": "markdown",
   "id": "17c40894",
   "metadata": {},
   "source": [
    "#### 컬럼명 한글로 대체"
   ]
  },
  {
   "cell_type": "code",
   "execution_count": 3,
   "id": "c686688e",
   "metadata": {},
   "outputs": [],
   "source": [
    "user_spec_DD = pd.read_csv(\"../사용데이터/user_spec_DD.txt\", sep=\"\\t\")\n",
    "user_spec_DD.drop(\"No.\",axis=1,inplace=True)\n",
    "loan_result_DD = pd.read_csv(\"../사용데이터/loan_result_DD.txt\", sep=\"\\t\")\n",
    "loan_result_DD.drop(\"No.\",axis=1,inplace=True)\n",
    "\n",
    "user_spec_col = list(user_spec_DD[\"컬럼명\"])\n",
    "remove_col = {\"건강보험타입\"}\n",
    "\n",
    "user_spec_col2 = [i for i in user_spec_col if i not in remove_col]\n",
    "\n",
    "user_spec_pd.columns=user_spec_col2\n",
    "loan_result_pd.columns = list(loan_result_DD[\"컬럼명\"])"
   ]
  },
  {
   "cell_type": "markdown",
   "id": "9eb50c9f",
   "metadata": {},
   "source": [
    "## 데이터 확인 및 가공"
   ]
  },
  {
   "cell_type": "markdown",
   "id": "d6053adb",
   "metadata": {},
   "source": [
    "#### 데이트타임 처리"
   ]
  },
  {
   "cell_type": "markdown",
   "id": "1769ab3b",
   "metadata": {},
   "source": [
    "* user_spec"
   ]
  },
  {
   "cell_type": "code",
   "execution_count": 4,
   "id": "86763047",
   "metadata": {},
   "outputs": [
    {
     "name": "stdout",
     "output_type": "stream",
     "text": [
      "0\n",
      "1\n",
      "2\n"
     ]
    }
   ],
   "source": [
    "user_spec_pd.insert(0,'일시',pd.to_datetime(user_spec_pd.생성일시))\n",
    "user_spec_pd.drop(\"생성일시\",axis=1, inplace = True)\n",
    "user_spec_pd.rename(columns = {\"일시\":\"생성일시\"}, inplace = True)\n",
    "print(0)\n",
    "user_spec_pd.insert(0, '일', user_spec_pd.생성일시.apply(lambda x: x.day))\n",
    "print(1)\n",
    "user_spec_pd.insert(0, '월', user_spec_pd.생성일시.apply(lambda x: x.month))\n",
    "print(2)"
   ]
  },
  {
   "cell_type": "markdown",
   "id": "bd2cf3f1",
   "metadata": {},
   "source": [
    "* loan_result"
   ]
  },
  {
   "cell_type": "code",
   "execution_count": 5,
   "id": "b012c313",
   "metadata": {},
   "outputs": [
    {
     "name": "stdout",
     "output_type": "stream",
     "text": [
      "0\n",
      "1\n",
      "2\n"
     ]
    }
   ],
   "source": [
    "loan_result_pd.insert(0,'일시',pd.to_datetime(loan_result_pd.한도조회일시))\n",
    "loan_result_pd.drop(\"한도조회일시\", axis=1, inplace = True)\n",
    "loan_result_pd.rename(columns = {\"일시\":\"한도조회일시\"}, inplace = True)\n",
    "print(0)\n",
    "loan_result_pd.insert(0, '일', loan_result_pd.한도조회일시.apply(lambda x: x.day))\n",
    "print(1)\n",
    "loan_result_pd.insert(0, '월', loan_result_pd.한도조회일시.apply(lambda x: x.month))\n",
    "print(2)"
   ]
  },
  {
   "cell_type": "markdown",
   "id": "a77a80ac",
   "metadata": {},
   "source": [
    "* user_spec_pd 대출목적 영어와 한글 의미 겹치는거 한글로 통일"
   ]
  },
  {
   "cell_type": "code",
   "execution_count": 6,
   "id": "70d12bef",
   "metadata": {},
   "outputs": [],
   "source": [
    "kor_list = [\"생활비\",\"대환대출\",\"사업자금\",\"기타\",\"전월세보증금\",\"주택구입\",\"투자\",\"자동차구입\"]\n",
    "eng_list = [\"LIVING\",\"SWITCHLOAN\",\"BUSINESS\",\"ETC\",\"HOUSEDEPOSIT\",\"BUYHOUSE\",\"INVEST\",\"BUYCAR\"]\n",
    "\n",
    "i=0\n",
    "for i in range(len(kor_list)):\n",
    "    user_spec_pd = user_spec_pd.replace({'대출목적': eng_list[i]}, kor_list[i])"
   ]
  },
  {
   "cell_type": "markdown",
   "id": "a23629d1",
   "metadata": {},
   "source": [
    "**user_spec_pd에서 생일이 입력된적이 있지만 nan으로 되어있는 경우 있음 이를 대체해야함**\n",
    "* 12961 -> 9724 총 3237개의 데이터 대체가능"
   ]
  },
  {
   "cell_type": "code",
   "execution_count": 8,
   "id": "f9a1245d",
   "metadata": {},
   "outputs": [],
   "source": [
    "user_N_num = user_spec_pd.iloc[user_spec_pd[user_spec_pd['유저생년월일'].isnull()].index,4] #생년월일 NaN이 하나라도 있는 유저 번호 반환\n",
    "user_num=user_spec_pd.iloc[user_spec_pd[user_spec_pd['유저생년월일'].notnull()].index,4] #생년월일 있는 유저 번호 반환\n",
    "user_number_all=user_spec_pd['유저번호']\n",
    "\n",
    "\n",
    "\n",
    "for i in user_N_num :\n",
    "    if user_spec_pd[user_spec_pd['유저번호']==i]['유저생년월일'].sum() == 0 :\n",
    "        continue\n",
    "\n",
    "    else :\n",
    "        user_spec_pd.iloc[user_spec_pd[user_spec_pd['유저번호']==i].index,5]=user_spec_pd[user_spec_pd['유저번호']==i]['유저생년월일'].mean()\n",
    "        user_spec_pd.iloc[user_spec_pd[user_spec_pd['유저번호']==i].index,6]=user_spec_pd[user_spec_pd['유저번호']==i]['유저성별'].mean()  "
   ]
  },
  {
   "cell_type": "markdown",
   "id": "1ac13386",
   "metadata": {},
   "source": [
    "**기대출수가 null이면 다른 경우에도 null이다. 한 유저에 대한 정보가 다르지 않다.**\n",
    "* 기대출수가 null이면 관련 정보가 없다는 의미이므로 빌린 적이 없다고 받아들여도 무방해 보인다. null은 0으로 대체한다."
   ]
  },
  {
   "cell_type": "code",
   "execution_count": 9,
   "id": "d580c557",
   "metadata": {},
   "outputs": [
    {
     "name": "stdout",
     "output_type": "stream",
     "text": [
      "0\n"
     ]
    }
   ],
   "source": [
    "user_exp_null = set(user_spec_pd[user_spec_pd[\"기대출수\"].isnull()][\"유저번호\"])\n",
    "i=0\n",
    "for user in user_exp_null:\n",
    "    if user_spec_pd[user_spec_pd['유저번호'] == user][\"기대출수\"].sum() == 0:\n",
    "        continue\n",
    "    else:\n",
    "        i+=1\n",
    "print(i)"
   ]
  },
  {
   "cell_type": "code",
   "execution_count": 10,
   "id": "17fd733b",
   "metadata": {},
   "outputs": [],
   "source": [
    "user_spec_pd[\"기대출수\"].fillna(0, inplace = True)"
   ]
  },
  {
   "cell_type": "markdown",
   "id": "b296c938",
   "metadata": {},
   "source": [
    "**기대출금액이 null이면 다른 경우에도 null이다. 한 유저에 대한 정보가 다르지 않다.**\n",
    "* 기대출금액이 null이면 관련 정보가 없다는 의미이므로 빌린 적이 없다고 받아들여도 무방해 보인다. null은 0으로 대체한다."
   ]
  },
  {
   "cell_type": "code",
   "execution_count": 11,
   "id": "f484959e",
   "metadata": {},
   "outputs": [
    {
     "name": "stdout",
     "output_type": "stream",
     "text": [
      "0\n"
     ]
    }
   ],
   "source": [
    "user_exp_null = set(user_spec_pd[user_spec_pd[\"기대출금액\"].isnull()][\"유저번호\"])\n",
    "i=0\n",
    "for user in user_exp_null:\n",
    "    if user_spec_pd[user_spec_pd['유저번호'] == user][\"기대출금액\"].count() == 0:\n",
    "        continue\n",
    "    else:\n",
    "        i+=1\n",
    "\n",
    "print(i)"
   ]
  },
  {
   "cell_type": "code",
   "execution_count": 13,
   "id": "8d831af7",
   "metadata": {},
   "outputs": [],
   "source": [
    "user_spec_pd[\"기대출금액\"].fillna(0, inplace = True)"
   ]
  },
  {
   "cell_type": "markdown",
   "id": "3241d24f",
   "metadata": {},
   "source": [
    "**한도조회당시유저신용점수 null값 처리**\n",
    "* 8534 명은 이전의 신용점수로 대체가능"
   ]
  },
  {
   "cell_type": "code",
   "execution_count": 14,
   "id": "42d62cd6",
   "metadata": {},
   "outputs": [],
   "source": [
    "user_cred_null = set(user_spec_pd[user_spec_pd[\"한도조회당시유저신용점수\"].isnull()][\"유저번호\"])\n",
    "\n",
    "for user in user_cred_null:\n",
    "    if user_spec_pd[user_spec_pd['유저번호'] == user][\"기대출금액\"].count() == 0:\n",
    "        continue\n",
    "    else:\n",
    "        user_spec_pd.iloc[user_spec_pd[user_spec_pd['유저번호']==user].index,7]=user_spec_pd[user_spec_pd['유저번호']==user]['한도조회당시유저신용점수'].mean()\n"
   ]
  },
  {
   "cell_type": "markdown",
   "id": "e46529e6",
   "metadata": {},
   "source": [
    "* 6월 데이터 분리"
   ]
  },
  {
   "cell_type": "code",
   "execution_count": 16,
   "id": "5721a5d8",
   "metadata": {},
   "outputs": [],
   "source": [
    "#target\n",
    "user_spec_target = user_spec_pd[user_spec_pd[\"월\"]==6]\n",
    "loan_result_target = loan_result_pd[loan_result_pd[\"월\"]==6]\n",
    "#train\n",
    "user_spec_train = user_spec_pd[user_spec_pd[\"월\"] != 6]\n",
    "loan_result_train = loan_result_pd[loan_result_pd[\"월\"] != 6]"
   ]
  },
  {
   "cell_type": "code",
   "execution_count": 17,
   "id": "4f452cff",
   "metadata": {},
   "outputs": [
    {
     "name": "stdout",
     "output_type": "stream",
     "text": [
      "<class 'pandas.core.frame.DataFrame'>\n",
      "Int64Index: 364826 entries, 0 to 1394088\n",
      "Data columns (total 19 columns):\n",
      " #   Column        Non-Null Count   Dtype         \n",
      "---  ------        --------------   -----         \n",
      " 0   월             364826 non-null  int64         \n",
      " 1   일             364826 non-null  int64         \n",
      " 2   생성일시          364826 non-null  datetime64[ns]\n",
      " 3   신청서번호         364826 non-null  int64         \n",
      " 4   유저번호          364826 non-null  int64         \n",
      " 5   유저생년월일        361683 non-null  float64       \n",
      " 6   유저성별          361683 non-null  float64       \n",
      " 7   한도조회당시유저신용점수  346170 non-null  float64       \n",
      " 8   연소득           364759 non-null  float64       \n",
      " 9   근로형태          364764 non-null  object        \n",
      " 10  입사연월          316106 non-null  float64       \n",
      " 11  고용형태          364764 non-null  object        \n",
      " 12  주거소유형태        364764 non-null  object        \n",
      " 13  대출희망금액        364764 non-null  float64       \n",
      " 14  대출목적          364764 non-null  object        \n",
      " 15  개인회생자여부       362747 non-null  float64       \n",
      " 16  개인회생자납입완료여부   83531 non-null   float64       \n",
      " 17  기대출수          364826 non-null  float64       \n",
      " 18  기대출금액         364826 non-null  float64       \n",
      "dtypes: datetime64[ns](1), float64(10), int64(4), object(4)\n",
      "memory usage: 55.7+ MB\n",
      "None\n",
      "<class 'pandas.core.frame.DataFrame'>\n",
      "Int64Index: 3257239 entries, 0 to 13527362\n",
      "Data columns (total 9 columns):\n",
      " #   Column    Dtype         \n",
      "---  ------    -----         \n",
      " 0   월         int64         \n",
      " 1   일         int64         \n",
      " 2   한도조회일시    datetime64[ns]\n",
      " 3   신청서번호     int64         \n",
      " 4   금융사번호     int64         \n",
      " 5   상품번호      int64         \n",
      " 6   승인한도      float64       \n",
      " 7   승인금리      float64       \n",
      " 8   신청여부(타겟)  float64       \n",
      "dtypes: datetime64[ns](1), float64(3), int64(5)\n",
      "memory usage: 248.5 MB\n",
      "None\n"
     ]
    }
   ],
   "source": [
    "print(user_spec_target.info())\n",
    "print(loan_result_target.info())"
   ]
  },
  {
   "cell_type": "markdown",
   "id": "ba1b37fd",
   "metadata": {},
   "source": [
    "**user_spec의 신청서 번호의 중복은 없다 -> loan_result의 신청서 번호와 inner join 가능하다**"
   ]
  },
  {
   "cell_type": "code",
   "execution_count": 18,
   "id": "86f85c25",
   "metadata": {},
   "outputs": [
    {
     "name": "stdout",
     "output_type": "stream",
     "text": [
      "0\n",
      "0\n"
     ]
    }
   ],
   "source": [
    "print(user_spec_target[\"신청서번호\"].duplicated().sum())\n",
    "print(user_spec_train[\"신청서번호\"].duplicated().sum())"
   ]
  },
  {
   "cell_type": "markdown",
   "id": "7f394acc",
   "metadata": {},
   "source": [
    "user_spec 과 loan_result 합치기"
   ]
  },
  {
   "cell_type": "code",
   "execution_count": 19,
   "id": "6907b860",
   "metadata": {},
   "outputs": [
    {
     "name": "stderr",
     "output_type": "stream",
     "text": [
      "C:\\Users\\jbhyu\\AppData\\Local\\Temp\\ipykernel_39344\\102153400.py:1: SettingWithCopyWarning: \n",
      "A value is trying to be set on a copy of a slice from a DataFrame\n",
      "\n",
      "See the caveats in the documentation: https://pandas.pydata.org/pandas-docs/stable/user_guide/indexing.html#returning-a-view-versus-a-copy\n",
      "  loan_result_target.drop([\"월\",\"일\",\"한도조회일시\"], axis = 1, inplace = True)\n",
      "C:\\Users\\jbhyu\\AppData\\Local\\Temp\\ipykernel_39344\\102153400.py:2: SettingWithCopyWarning: \n",
      "A value is trying to be set on a copy of a slice from a DataFrame\n",
      "\n",
      "See the caveats in the documentation: https://pandas.pydata.org/pandas-docs/stable/user_guide/indexing.html#returning-a-view-versus-a-copy\n",
      "  loan_result_train.drop([\"월\",\"일\",\"한도조회일시\"], axis = 1, inplace = True)\n"
     ]
    }
   ],
   "source": [
    "loan_result_target.drop([\"월\",\"일\",\"한도조회일시\"], axis = 1, inplace = True)\n",
    "loan_result_train.drop([\"월\",\"일\",\"한도조회일시\"], axis = 1, inplace = True)"
   ]
  },
  {
   "cell_type": "code",
   "execution_count": 20,
   "id": "7d30b99c",
   "metadata": {},
   "outputs": [],
   "source": [
    "user_loan_train = pd.merge(user_spec_train, loan_result_train, left_on = '신청서번호', right_on = '신청서번호', how = 'inner')\n",
    "user_loan_target = pd.merge(user_spec_target, loan_result_target, left_on = '신청서번호', right_on = '신청서번호', how = 'inner')"
   ]
  },
  {
   "cell_type": "code",
   "execution_count": 21,
   "id": "3c5bfd72",
   "metadata": {},
   "outputs": [
    {
     "name": "stdout",
     "output_type": "stream",
     "text": [
      "월                     0\n",
      "일                     0\n",
      "생성일시                  0\n",
      "신청서번호                 0\n",
      "유저번호                  0\n",
      "유저생년월일            77023\n",
      "유저성별              77023\n",
      "한도조회당시유저신용점수    1045972\n",
      "연소득                   0\n",
      "근로형태                  0\n",
      "입사연월             303568\n",
      "고용형태                  0\n",
      "주거소유형태                0\n",
      "대출희망금액                0\n",
      "대출목적                  0\n",
      "개인회생자여부         5873229\n",
      "개인회생자납입완료여부     9232232\n",
      "기대출수                  0\n",
      "기대출금액                 0\n",
      "금융사번호                 0\n",
      "상품번호                  0\n",
      "승인한도               5625\n",
      "승인금리               5625\n",
      "신청여부(타겟)              0\n",
      "dtype: int64 \n",
      "\n",
      "월                     0\n",
      "일                     0\n",
      "생성일시                  0\n",
      "신청서번호                 0\n",
      "유저번호                  0\n",
      "유저생년월일            30827\n",
      "유저성별              30827\n",
      "한도조회당시유저신용점수     256041\n",
      "연소득                   6\n",
      "근로형태                  0\n",
      "입사연월              96758\n",
      "고용형태                  0\n",
      "주거소유형태                0\n",
      "대출희망금액                0\n",
      "대출목적                  0\n",
      "개인회생자여부           15470\n",
      "개인회생자납입완료여부     2561675\n",
      "기대출수                  0\n",
      "기대출금액                 0\n",
      "금융사번호                 0\n",
      "상품번호                  0\n",
      "승인한도               1677\n",
      "승인금리               1677\n",
      "신청여부(타겟)        3257159\n",
      "dtype: int64\n"
     ]
    }
   ],
   "source": [
    "print(user_loan_train.isnull().sum(),'\\n')\n",
    "print(user_loan_target.isnull().sum())"
   ]
  },
  {
   "cell_type": "markdown",
   "id": "d40f0b18",
   "metadata": {},
   "source": [
    "### 범주형 데이터 확인\n",
    "Categorical = [\"근로형태\",\"고용형태\",\"주거소유형태\",\"대출목적\", \"유저성별\"]\n",
    "\n",
    "bar plot 그리기\n",
    "* https://rfriend.tistory.com/411"
   ]
  },
  {
   "cell_type": "code",
   "execution_count": 22,
   "id": "0fe22f81",
   "metadata": {
    "scrolled": false
   },
   "outputs": [
    {
     "data": {
      "text/html": [
       "<div>\n",
       "<style scoped>\n",
       "    .dataframe tbody tr th:only-of-type {\n",
       "        vertical-align: middle;\n",
       "    }\n",
       "\n",
       "    .dataframe tbody tr th {\n",
       "        vertical-align: top;\n",
       "    }\n",
       "\n",
       "    .dataframe thead tr th {\n",
       "        text-align: left;\n",
       "    }\n",
       "</style>\n",
       "<table border=\"1\" class=\"dataframe\">\n",
       "  <thead>\n",
       "    <tr>\n",
       "      <th></th>\n",
       "      <th>타겟0</th>\n",
       "      <th>타겟1</th>\n",
       "      <th>총합</th>\n",
       "      <th>1비율</th>\n",
       "    </tr>\n",
       "  </thead>\n",
       "  <tbody>\n",
       "    <tr>\n",
       "      <th>0.0</th>\n",
       "      <td>4125305</td>\n",
       "      <td>248426</td>\n",
       "      <td>4373731</td>\n",
       "      <td>0.056800</td>\n",
       "    </tr>\n",
       "    <tr>\n",
       "      <th>1.0</th>\n",
       "      <td>20468</td>\n",
       "      <td>2583</td>\n",
       "      <td>23051</td>\n",
       "      <td>0.112056</td>\n",
       "    </tr>\n",
       "  </tbody>\n",
       "</table>\n",
       "</div>"
      ],
      "text/plain": [
       "         타겟0     타겟1       총합       1비율\n",
       "0.0  4125305  248426  4373731  0.056800\n",
       "1.0    20468    2583    23051  0.112056"
      ]
     },
     "metadata": {},
     "output_type": "display_data"
    },
    {
     "data": {
      "image/png": "[encoded data removed]",
      "text/plain": [
       "<Figure size 1152x432 with 3 Axes>"
      ]
     },
     "metadata": {
      "needs_background": "light"
     },
     "output_type": "display_data"
    },
    {
     "data": {
      "text/html": [
       "<div>\n",
       "<style scoped>\n",
       "    .dataframe tbody tr th:only-of-type {\n",
       "        vertical-align: middle;\n",
       "    }\n",
       "\n",
       "    .dataframe tbody tr th {\n",
       "        vertical-align: top;\n",
       "    }\n",
       "\n",
       "    .dataframe thead tr th {\n",
       "        text-align: left;\n",
       "    }\n",
       "</style>\n",
       "<table border=\"1\" class=\"dataframe\">\n",
       "  <thead>\n",
       "    <tr>\n",
       "      <th></th>\n",
       "      <th>타겟0</th>\n",
       "      <th>타겟1</th>\n",
       "      <th>총합</th>\n",
       "      <th>1비율</th>\n",
       "    </tr>\n",
       "  </thead>\n",
       "  <tbody>\n",
       "    <tr>\n",
       "      <th>0.0</th>\n",
       "      <td>975276</td>\n",
       "      <td>58387</td>\n",
       "      <td>1033663</td>\n",
       "      <td>0.056486</td>\n",
       "    </tr>\n",
       "    <tr>\n",
       "      <th>1.0</th>\n",
       "      <td>3805</td>\n",
       "      <td>311</td>\n",
       "      <td>4116</td>\n",
       "      <td>0.075559</td>\n",
       "    </tr>\n",
       "  </tbody>\n",
       "</table>\n",
       "</div>"
      ],
      "text/plain": [
       "        타겟0    타겟1       총합       1비율\n",
       "0.0  975276  58387  1033663  0.056486\n",
       "1.0    3805    311     4116  0.075559"
      ]
     },
     "metadata": {},
     "output_type": "display_data"
    },
    {
     "data": {
      "image/png": "[encoded data removed]",
      "text/plain": [
       "<Figure size 1152x432 with 3 Axes>"
      ]
     },
     "metadata": {
      "needs_background": "light"
     },
     "output_type": "display_data"
    },
    {
     "data": {
      "text/html": [
       "<div>\n",
       "<style scoped>\n",
       "    .dataframe tbody tr th:only-of-type {\n",
       "        vertical-align: middle;\n",
       "    }\n",
       "\n",
       "    .dataframe tbody tr th {\n",
       "        vertical-align: top;\n",
       "    }\n",
       "\n",
       "    .dataframe thead tr th {\n",
       "        text-align: left;\n",
       "    }\n",
       "</style>\n",
       "<table border=\"1\" class=\"dataframe\">\n",
       "  <thead>\n",
       "    <tr>\n",
       "      <th></th>\n",
       "      <th>타겟0</th>\n",
       "      <th>타겟1</th>\n",
       "      <th>총합</th>\n",
       "      <th>1비율</th>\n",
       "    </tr>\n",
       "  </thead>\n",
       "  <tbody>\n",
       "    <tr>\n",
       "      <th>EARNEDINCOME</th>\n",
       "      <td>8336826</td>\n",
       "      <td>378883</td>\n",
       "      <td>8715709</td>\n",
       "      <td>0.043471</td>\n",
       "    </tr>\n",
       "    <tr>\n",
       "      <th>EARNEDINCOME2</th>\n",
       "      <td>415571</td>\n",
       "      <td>56178</td>\n",
       "      <td>471749</td>\n",
       "      <td>0.119085</td>\n",
       "    </tr>\n",
       "    <tr>\n",
       "      <th>PRIVATEBUSINESS</th>\n",
       "      <td>334117</td>\n",
       "      <td>37931</td>\n",
       "      <td>372048</td>\n",
       "      <td>0.101952</td>\n",
       "    </tr>\n",
       "    <tr>\n",
       "      <th>OTHERINCOME</th>\n",
       "      <td>258830</td>\n",
       "      <td>46950</td>\n",
       "      <td>305780</td>\n",
       "      <td>0.153542</td>\n",
       "    </tr>\n",
       "    <tr>\n",
       "      <th>FREELANCER</th>\n",
       "      <td>216151</td>\n",
       "      <td>31817</td>\n",
       "      <td>247968</td>\n",
       "      <td>0.128311</td>\n",
       "    </tr>\n",
       "    <tr>\n",
       "      <th>PRACTITIONER</th>\n",
       "      <td>148180</td>\n",
       "      <td>8577</td>\n",
       "      <td>156757</td>\n",
       "      <td>0.054715</td>\n",
       "    </tr>\n",
       "  </tbody>\n",
       "</table>\n",
       "</div>"
      ],
      "text/plain": [
       "                     타겟0     타겟1       총합       1비율\n",
       "EARNEDINCOME     8336826  378883  8715709  0.043471\n",
       "EARNEDINCOME2     415571   56178   471749  0.119085\n",
       "PRIVATEBUSINESS   334117   37931   372048  0.101952\n",
       "OTHERINCOME       258830   46950   305780  0.153542\n",
       "FREELANCER        216151   31817   247968  0.128311\n",
       "PRACTITIONER      148180    8577   156757  0.054715"
      ]
     },
     "metadata": {},
     "output_type": "display_data"
    },
    {
     "data": {
      "image/png": "[encoded data removed]",
      "text/plain": [
       "<Figure size 1152x432 with 3 Axes>"
      ]
     },
     "metadata": {
      "needs_background": "light"
     },
     "output_type": "display_data"
    },
    {
     "data": {
      "text/html": [
       "<div>\n",
       "<style scoped>\n",
       "    .dataframe tbody tr th:only-of-type {\n",
       "        vertical-align: middle;\n",
       "    }\n",
       "\n",
       "    .dataframe tbody tr th {\n",
       "        vertical-align: top;\n",
       "    }\n",
       "\n",
       "    .dataframe thead tr th {\n",
       "        text-align: left;\n",
       "    }\n",
       "</style>\n",
       "<table border=\"1\" class=\"dataframe\">\n",
       "  <thead>\n",
       "    <tr>\n",
       "      <th></th>\n",
       "      <th>타겟0</th>\n",
       "      <th>타겟1</th>\n",
       "      <th>총합</th>\n",
       "      <th>1비율</th>\n",
       "    </tr>\n",
       "  </thead>\n",
       "  <tbody>\n",
       "    <tr>\n",
       "      <th>정규직</th>\n",
       "      <td>8013840</td>\n",
       "      <td>384945</td>\n",
       "      <td>8398785</td>\n",
       "      <td>0.045833</td>\n",
       "    </tr>\n",
       "    <tr>\n",
       "      <th>계약직</th>\n",
       "      <td>845374</td>\n",
       "      <td>57844</td>\n",
       "      <td>903218</td>\n",
       "      <td>0.064042</td>\n",
       "    </tr>\n",
       "    <tr>\n",
       "      <th>기타</th>\n",
       "      <td>724067</td>\n",
       "      <td>105451</td>\n",
       "      <td>829518</td>\n",
       "      <td>0.127123</td>\n",
       "    </tr>\n",
       "    <tr>\n",
       "      <th>일용직</th>\n",
       "      <td>126394</td>\n",
       "      <td>12096</td>\n",
       "      <td>138490</td>\n",
       "      <td>0.087342</td>\n",
       "    </tr>\n",
       "  </tbody>\n",
       "</table>\n",
       "</div>"
      ],
      "text/plain": [
       "         타겟0     타겟1       총합       1비율\n",
       "정규직  8013840  384945  8398785  0.045833\n",
       "계약직   845374   57844   903218  0.064042\n",
       "기타    724067  105451   829518  0.127123\n",
       "일용직   126394   12096   138490  0.087342"
      ]
     },
     "metadata": {},
     "output_type": "display_data"
    },
    {
     "data": {
      "image/png": "[encoded data removed]",
      "text/plain": [
       "<Figure size 1152x432 with 3 Axes>"
      ]
     },
     "metadata": {
      "needs_background": "light"
     },
     "output_type": "display_data"
    },
    {
     "data": {
      "text/html": [
       "<div>\n",
       "<style scoped>\n",
       "    .dataframe tbody tr th:only-of-type {\n",
       "        vertical-align: middle;\n",
       "    }\n",
       "\n",
       "    .dataframe tbody tr th {\n",
       "        vertical-align: top;\n",
       "    }\n",
       "\n",
       "    .dataframe thead tr th {\n",
       "        text-align: left;\n",
       "    }\n",
       "</style>\n",
       "<table border=\"1\" class=\"dataframe\">\n",
       "  <thead>\n",
       "    <tr>\n",
       "      <th></th>\n",
       "      <th>타겟0</th>\n",
       "      <th>타겟1</th>\n",
       "      <th>총합</th>\n",
       "      <th>1비율</th>\n",
       "    </tr>\n",
       "  </thead>\n",
       "  <tbody>\n",
       "    <tr>\n",
       "      <th>전월세</th>\n",
       "      <td>4340109</td>\n",
       "      <td>254146</td>\n",
       "      <td>4594255</td>\n",
       "      <td>0.055318</td>\n",
       "    </tr>\n",
       "    <tr>\n",
       "      <th>자가</th>\n",
       "      <td>2755208</td>\n",
       "      <td>121072</td>\n",
       "      <td>2876280</td>\n",
       "      <td>0.042093</td>\n",
       "    </tr>\n",
       "    <tr>\n",
       "      <th>기타가족소유</th>\n",
       "      <td>2602562</td>\n",
       "      <td>184649</td>\n",
       "      <td>2787211</td>\n",
       "      <td>0.066249</td>\n",
       "    </tr>\n",
       "    <tr>\n",
       "      <th>배우자</th>\n",
       "      <td>11796</td>\n",
       "      <td>469</td>\n",
       "      <td>12265</td>\n",
       "      <td>0.038239</td>\n",
       "    </tr>\n",
       "  </tbody>\n",
       "</table>\n",
       "</div>"
      ],
      "text/plain": [
       "            타겟0     타겟1       총합       1비율\n",
       "전월세     4340109  254146  4594255  0.055318\n",
       "자가      2755208  121072  2876280  0.042093\n",
       "기타가족소유  2602562  184649  2787211  0.066249\n",
       "배우자       11796     469    12265  0.038239"
      ]
     },
     "metadata": {},
     "output_type": "display_data"
    },
    {
     "data": {
      "image/png": "[encoded data removed]",
      "text/plain": [
       "<Figure size 1152x432 with 3 Axes>"
      ]
     },
     "metadata": {
      "needs_background": "light"
     },
     "output_type": "display_data"
    },
    {
     "data": {
      "text/html": [
       "<div>\n",
       "<style scoped>\n",
       "    .dataframe tbody tr th:only-of-type {\n",
       "        vertical-align: middle;\n",
       "    }\n",
       "\n",
       "    .dataframe tbody tr th {\n",
       "        vertical-align: top;\n",
       "    }\n",
       "\n",
       "    .dataframe thead tr th {\n",
       "        text-align: left;\n",
       "    }\n",
       "</style>\n",
       "<table border=\"1\" class=\"dataframe\">\n",
       "  <thead>\n",
       "    <tr>\n",
       "      <th></th>\n",
       "      <th>타겟0</th>\n",
       "      <th>타겟1</th>\n",
       "      <th>총합</th>\n",
       "      <th>1비율</th>\n",
       "    </tr>\n",
       "  </thead>\n",
       "  <tbody>\n",
       "    <tr>\n",
       "      <th>생활비</th>\n",
       "      <td>4888152</td>\n",
       "      <td>375782</td>\n",
       "      <td>5263934</td>\n",
       "      <td>0.071388</td>\n",
       "    </tr>\n",
       "    <tr>\n",
       "      <th>대환대출</th>\n",
       "      <td>2969683</td>\n",
       "      <td>129979</td>\n",
       "      <td>3099662</td>\n",
       "      <td>0.041933</td>\n",
       "    </tr>\n",
       "    <tr>\n",
       "      <th>주택구입</th>\n",
       "      <td>440558</td>\n",
       "      <td>3512</td>\n",
       "      <td>444070</td>\n",
       "      <td>0.007909</td>\n",
       "    </tr>\n",
       "    <tr>\n",
       "      <th>전월세보증금</th>\n",
       "      <td>434869</td>\n",
       "      <td>7682</td>\n",
       "      <td>442551</td>\n",
       "      <td>0.017358</td>\n",
       "    </tr>\n",
       "    <tr>\n",
       "      <th>사업자금</th>\n",
       "      <td>402798</td>\n",
       "      <td>23911</td>\n",
       "      <td>426709</td>\n",
       "      <td>0.056036</td>\n",
       "    </tr>\n",
       "    <tr>\n",
       "      <th>기타</th>\n",
       "      <td>298618</td>\n",
       "      <td>12635</td>\n",
       "      <td>311253</td>\n",
       "      <td>0.040594</td>\n",
       "    </tr>\n",
       "    <tr>\n",
       "      <th>투자</th>\n",
       "      <td>217882</td>\n",
       "      <td>5436</td>\n",
       "      <td>223318</td>\n",
       "      <td>0.024342</td>\n",
       "    </tr>\n",
       "    <tr>\n",
       "      <th>자동차구입</th>\n",
       "      <td>57115</td>\n",
       "      <td>1399</td>\n",
       "      <td>58514</td>\n",
       "      <td>0.023909</td>\n",
       "    </tr>\n",
       "  </tbody>\n",
       "</table>\n",
       "</div>"
      ],
      "text/plain": [
       "            타겟0     타겟1       총합       1비율\n",
       "생활비     4888152  375782  5263934  0.071388\n",
       "대환대출    2969683  129979  3099662  0.041933\n",
       "주택구입     440558    3512   444070  0.007909\n",
       "전월세보증금   434869    7682   442551  0.017358\n",
       "사업자금     402798   23911   426709  0.056036\n",
       "기타       298618   12635   311253  0.040594\n",
       "투자       217882    5436   223318  0.024342\n",
       "자동차구입     57115    1399    58514  0.023909"
      ]
     },
     "metadata": {},
     "output_type": "display_data"
    },
    {
     "data": {
      "image/png": "[encoded data removed]",
      "text/plain": [
       "<Figure size 1152x432 with 3 Axes>"
      ]
     },
     "metadata": {
      "needs_background": "light"
     },
     "output_type": "display_data"
    },
    {
     "data": {
      "text/html": [
       "<div>\n",
       "<style scoped>\n",
       "    .dataframe tbody tr th:only-of-type {\n",
       "        vertical-align: middle;\n",
       "    }\n",
       "\n",
       "    .dataframe tbody tr th {\n",
       "        vertical-align: top;\n",
       "    }\n",
       "\n",
       "    .dataframe thead tr th {\n",
       "        text-align: left;\n",
       "    }\n",
       "</style>\n",
       "<table border=\"1\" class=\"dataframe\">\n",
       "  <thead>\n",
       "    <tr>\n",
       "      <th></th>\n",
       "      <th>타겟0</th>\n",
       "      <th>타겟1</th>\n",
       "      <th>총합</th>\n",
       "      <th>1비율</th>\n",
       "    </tr>\n",
       "  </thead>\n",
       "  <tbody>\n",
       "    <tr>\n",
       "      <th>1.0</th>\n",
       "      <td>6695903</td>\n",
       "      <td>372923</td>\n",
       "      <td>7068826</td>\n",
       "      <td>0.052756</td>\n",
       "    </tr>\n",
       "    <tr>\n",
       "      <th>0.0</th>\n",
       "      <td>2940450</td>\n",
       "      <td>183712</td>\n",
       "      <td>3124162</td>\n",
       "      <td>0.058804</td>\n",
       "    </tr>\n",
       "  </tbody>\n",
       "</table>\n",
       "</div>"
      ],
      "text/plain": [
       "         타겟0     타겟1       총합       1비율\n",
       "1.0  6695903  372923  7068826  0.052756\n",
       "0.0  2940450  183712  3124162  0.058804"
      ]
     },
     "metadata": {},
     "output_type": "display_data"
    },
    {
     "data": {
      "image/png": "[encoded data removed]",
      "text/plain": [
       "<Figure size 1152x432 with 3 Axes>"
      ]
     },
     "metadata": {
      "needs_background": "light"
     },
     "output_type": "display_data"
    }
   ],
   "source": [
    "Categorical = [\"개인회생자여부\",\"개인회생자납입완료여부\",\"근로형태\",\"고용형태\",\"주거소유형태\",\"대출목적\",\"유저성별\"]\n",
    "#bar_width = 0.5\n",
    "alpha = 0.5\n",
    "\n",
    "for cat in Categorical:\n",
    "    tar_no = pd.DataFrame(user_loan_train[user_loan_train[\"신청여부(타겟)\"]==0][cat].value_counts())\n",
    "    tar_yes = pd.DataFrame(user_loan_train[user_loan_train[\"신청여부(타겟)\"]==1][cat].value_counts())\n",
    "    tar_all = pd.concat([tar_no,tar_yes], axis=1)\n",
    "    tar_all.columns = [[\"타겟0\",\"타겟1\"]]\n",
    "    #display(tar_all)\n",
    "    \n",
    "    f, ax = plt.subplots(1,3, figsize = (16,6))\n",
    "      \n",
    "    tar_all.plot(kind = 'bar', ax = ax[0])\n",
    "    ax[0].set_title(cat+\"분포\", fontsize = 20)    \n",
    "    \n",
    "    tar_all[\"타겟0\"].plot(kind = \"bar\", ax = ax[1], color = 'b', alpha = alpha)\n",
    "    ax[1].set_title(cat+\" 타겟0 분포\", fontsize = 20)\n",
    "\n",
    "    tar_all[\"타겟1\"].plot(kind = \"bar\",  ax = ax[2], color = 'r', alpha = alpha)\n",
    "    ax[2].set_title(cat+\" 타겟1 분포\", fontsize = 20)\n",
    "    \n",
    "    #plot안에 rot = 0 으로 쓰면 xlabel이 가로로 써진다.\n",
    "    tar_all[\"총합\"] = tar_all[\"타겟0\"].values + tar_all[\"타겟1\"].values\n",
    "    tar_all[\"1비율\"] = tar_all[\"타겟1\"].values/tar_all[\"총합\"].values\n",
    "    #tar_all[\"1비율\"]*100\n",
    "    display(tar_all)\n",
    "\n",
    "    plt.show()\n",
    "    "
   ]
  },
  {
   "cell_type": "markdown",
   "id": "ced907be",
   "metadata": {},
   "source": [
    "* 범주형 자료들의 경우 target 값에 따라 분포가 약간씩 달라졌다. 일단 모두 get_dummies를 통해 자료형을 바꾸기로 한다.\n",
    "* 개인회생자 납입완료 여부,성별에 따른 차이는 거의 없다. 이들은 중요한 변수가 아니다 drop하자"
   ]
  },
  {
   "cell_type": "code",
   "execution_count": 23,
   "id": "d718498c",
   "metadata": {},
   "outputs": [],
   "source": [
    "def num_plot(column):\n",
    "  \n",
    "    fig, axes = plt.subplots(1, 3, figsize=(16, 6))\n",
    "\n",
    "    sns.histplot(user_loan_train[column],\n",
    "                ax = axes[0])\n",
    "    axes[0].tick_params(labelsize=12)\n",
    "    axes[0].set_title('Full data')\n",
    "    axes[0].set_ylabel('count')\n",
    "    \n",
    "    \n",
    "    target_0 = user_loan_train[user_loan_train[\"신청여부(타겟)\"]==0][column]\n",
    "    sns.histplot(target_0, ax = axes[1])\n",
    "    axes[1].tick_params(labelsize=12)\n",
    "    axes[1].set_title('target = 0')\n",
    "    axes[1].set_ylabel('count')\n",
    "    \n",
    "    target_1 = user_loan_train[user_loan_train[\"신청여부(타겟)\"]==1][column]\n",
    "    sns.histplot(target_1, ax = axes[2])\n",
    "    axes[2].tick_params(labelsize=12)\n",
    "    axes[2].set_title('target = 1')\n",
    "    axes[2].set_ylabel('count')\n",
    "\n",
    "    plt.subplots_adjust(wspace=0.3, hspace=0.3)\n",
    "    #plt.show()\n",
    "\n",
    "    print('타겟 1 데이터의 평균 :', (target_0).mean())\n",
    "    print('타겟 0 데이터의 평균 :', (target_1).mean())\n",
    "    print('데이터의 표준오차 :', user_loan_train[column].std() / np.sqrt(user_loan_train[column].count()))"
   ]
  },
  {
   "cell_type": "code",
   "execution_count": 24,
   "id": "8d67618a",
   "metadata": {
    "scrolled": false
   },
   "outputs": [
    {
     "name": "stdout",
     "output_type": "stream",
     "text": [
      "타겟 1 데이터의 평균 : 12.814555801592455\n",
      "타겟 0 데이터의 평균 : 11.913989987590464\n",
      "데이터의 표준오차 : 0.0012130727115864876\n"
     ]
    },
    {
     "data": {
      "image/png": "[encoded data removed]",
      "text/plain": [
       "<Figure size 1152x432 with 3 Axes>"
      ]
     },
     "metadata": {
      "needs_background": "light"
     },
     "output_type": "display_data"
    }
   ],
   "source": [
    "num_plot(\"승인금리\")"
   ]
  },
  {
   "cell_type": "markdown",
   "id": "06a32e20",
   "metadata": {},
   "source": [
    "* traget이 1일 때랑 0일때 승인금리의 분포는 확실히 다르다."
   ]
  },
  {
   "cell_type": "code",
   "execution_count": 43,
   "id": "24e79a2d",
   "metadata": {},
   "outputs": [
    {
     "name": "stdout",
     "output_type": "stream",
     "text": [
      "타겟 1 데이터의 평균 : 755.4783103228356\n",
      "타겟 0 데이터의 평균 : 657.4865133628084\n",
      "데이터의 표준오차 : 0.04204428066705293\n"
     ]
    },
    {
     "data": {
      "image/png": "[encoded data removed]",
      "text/plain": [
       "<Figure size 1152x432 with 3 Axes>"
      ]
     },
     "metadata": {
      "needs_background": "light"
     },
     "output_type": "display_data"
    }
   ],
   "source": [
    "num_plot(\"한도조회당시유저신용점수\")"
   ]
  },
  {
   "cell_type": "markdown",
   "id": "40fd677a",
   "metadata": {},
   "source": [
    "**생년월일을 이용해 나이 열 추가**"
   ]
  },
  {
   "cell_type": "code",
   "execution_count": 47,
   "id": "0dd63c96",
   "metadata": {},
   "outputs": [],
   "source": [
    "user_loan_train.insert(5, \"나이\", 2022-user_loan_train[\"유저생년월일\"])"
   ]
  },
  {
   "cell_type": "code",
   "execution_count": 211,
   "id": "bf32bc40",
   "metadata": {},
   "outputs": [],
   "source": [
    "user_loan_target.insert(5, \"나이\", 2022-user_loan_train[\"유저생년월일\"])"
   ]
  },
  {
   "cell_type": "code",
   "execution_count": 49,
   "id": "c92b7853",
   "metadata": {},
   "outputs": [
    {
     "name": "stdout",
     "output_type": "stream",
     "text": [
      "타겟 1 데이터의 평균 : 39.24168894601516\n",
      "타겟 0 데이터의 평균 : 38.771256430962985\n",
      "데이터의 표준오차 : 0.003020431759404423\n"
     ]
    },
    {
     "data": {
      "image/png": "[encoded data removed]",
      "text/plain": [
       "<Figure size 1152x432 with 3 Axes>"
      ]
     },
     "metadata": {
      "needs_background": "light"
     },
     "output_type": "display_data"
    }
   ],
   "source": [
    "num_plot(\"나이\")"
   ]
  },
  {
   "cell_type": "code",
   "execution_count": 50,
   "id": "8ea8fe63",
   "metadata": {},
   "outputs": [
    {
     "name": "stdout",
     "output_type": "stream",
     "text": [
      "타겟 1 데이터의 평균 : 48115353.70648348\n",
      "타겟 0 데이터의 평균 : 44573177.74480765\n",
      "데이터의 표준오차 : 41169.09724216275\n"
     ]
    },
    {
     "data": {
      "image/png": "[encoded data removed]",
      "text/plain": [
       "<Figure size 1152x432 with 3 Axes>"
      ]
     },
     "metadata": {
      "needs_background": "light"
     },
     "output_type": "display_data"
    }
   ],
   "source": [
    "num_plot(\"연소득\")"
   ]
  },
  {
   "cell_type": "markdown",
   "id": "bf1a0d2b",
   "metadata": {},
   "source": [
    "## 널값 채우기"
   ]
  },
  {
   "cell_type": "markdown",
   "id": "1e3eb77a",
   "metadata": {},
   "source": [
    "**승인금리, 승인한도 null인경우 drop하기**"
   ]
  },
  {
   "cell_type": "code",
   "execution_count": 38,
   "id": "e749b446",
   "metadata": {},
   "outputs": [],
   "source": [
    "user_loan_train.dropna(subset = [\"승인금리\",\"승인한도\"], inplace = True)"
   ]
  },
  {
   "cell_type": "code",
   "execution_count": 217,
   "id": "06fb0164",
   "metadata": {},
   "outputs": [],
   "source": [
    "user_loan_target.dropna(subset = [\"승인금리\",\"승인한도\"], inplace = True)"
   ]
  },
  {
   "cell_type": "markdown",
   "id": "7abc6b0f",
   "metadata": {},
   "source": [
    "**개인회생자여부(null값 0으로 대체)**"
   ]
  },
  {
   "cell_type": "code",
   "execution_count": 25,
   "id": "4630c3f9",
   "metadata": {},
   "outputs": [
    {
     "data": {
      "text/html": [
       "<div>\n",
       "<style scoped>\n",
       "    .dataframe tbody tr th:only-of-type {\n",
       "        vertical-align: middle;\n",
       "    }\n",
       "\n",
       "    .dataframe tbody tr th {\n",
       "        vertical-align: top;\n",
       "    }\n",
       "\n",
       "    .dataframe thead th {\n",
       "        text-align: right;\n",
       "    }\n",
       "</style>\n",
       "<table border=\"1\" class=\"dataframe\">\n",
       "  <thead>\n",
       "    <tr style=\"text-align: right;\">\n",
       "      <th></th>\n",
       "      <th>신청여부(타겟)</th>\n",
       "    </tr>\n",
       "  </thead>\n",
       "  <tbody>\n",
       "    <tr>\n",
       "      <th>0.0</th>\n",
       "      <td>5563902</td>\n",
       "    </tr>\n",
       "    <tr>\n",
       "      <th>1.0</th>\n",
       "      <td>309327</td>\n",
       "    </tr>\n",
       "  </tbody>\n",
       "</table>\n",
       "</div>"
      ],
      "text/plain": [
       "     신청여부(타겟)\n",
       "0.0   5563902\n",
       "1.0    309327"
      ]
     },
     "metadata": {},
     "output_type": "display_data"
    },
    {
     "name": "stdout",
     "output_type": "stream",
     "text": [
      "target 1의 비율 [0.05266728]\n"
     ]
    }
   ],
   "source": [
    "regen_null = pd.DataFrame(user_loan_train[user_loan_train[\"개인회생자여부\"].isnull()][\"신청여부(타겟)\"].value_counts())\n",
    "display(regen_null)\n",
    "regen_null_value = regen_null.values\n",
    "print(\"target 1의 비율 {}\".format(regen_null_value[1]/sum(regen_null_value)))"
   ]
  },
  {
   "cell_type": "markdown",
   "id": "33e0ed0d",
   "metadata": {},
   "source": [
    "* target 1의 비율을 근거로 보았을 때 개인회생자여부가 null인 경우 분포는 개인회생자여부가 0인경우와 비슷할 것임이 확인 가능하다.\n",
    "* null 값을 0으로 채우자"
   ]
  },
  {
   "cell_type": "code",
   "execution_count": 26,
   "id": "c03f3d5d",
   "metadata": {},
   "outputs": [],
   "source": [
    "user_loan_train[\"개인회생자여부\"].fillna(0, inplace = True)"
   ]
  },
  {
   "cell_type": "code",
   "execution_count": 218,
   "id": "1860d03a",
   "metadata": {},
   "outputs": [],
   "source": [
    "user_loan_target[\"개인회생자여부\"].fillna(0, inplace = True)"
   ]
  },
  {
   "cell_type": "markdown",
   "id": "e2d1fda1",
   "metadata": {},
   "source": [
    "**한도조회당시유저신용점수 null값 처리(lgbm이용)**"
   ]
  },
  {
   "cell_type": "code",
   "execution_count": 31,
   "id": "b3b7d50f",
   "metadata": {},
   "outputs": [],
   "source": [
    "cred_null_user = user_loan_train[user_loan_train[\"한도조회당시유저신용점수\"].isnull()][\"유저번호\"].values"
   ]
  },
  {
   "cell_type": "code",
   "execution_count": 40,
   "id": "a411a309",
   "metadata": {},
   "outputs": [
    {
     "data": {
      "text/plain": [
       "40227"
      ]
     },
     "execution_count": 40,
     "metadata": {},
     "output_type": "execute_result"
    }
   ],
   "source": [
    "len(set(cred_null_user))"
   ]
  },
  {
   "cell_type": "code",
   "execution_count": 41,
   "id": "fd1e1b43",
   "metadata": {},
   "outputs": [
    {
     "data": {
      "text/plain": [
       "259321"
      ]
     },
     "execution_count": 41,
     "metadata": {},
     "output_type": "execute_result"
    }
   ],
   "source": [
    "len(set(user_loan_train[\"유저번호\"].values))"
   ]
  },
  {
   "cell_type": "code",
   "execution_count": 107,
   "id": "27a8c9f5",
   "metadata": {},
   "outputs": [
    {
     "data": {
      "text/plain": [
       "월                     0\n",
       "일                     0\n",
       "생성일시                  0\n",
       "신청서번호                 0\n",
       "유저번호                  0\n",
       "나이                63635\n",
       "유저생년월일            63635\n",
       "유저성별              63635\n",
       "한도조회당시유저신용점수          0\n",
       "연소득                   0\n",
       "근로형태                  0\n",
       "입사연월             263231\n",
       "고용형태                  0\n",
       "주거소유형태                0\n",
       "대출희망금액                0\n",
       "대출목적                  0\n",
       "개인회생자여부               0\n",
       "개인회생자납입완료여부     8321081\n",
       "기대출수                  0\n",
       "기대출금액                 0\n",
       "금융사번호                 0\n",
       "상품번호                  0\n",
       "승인한도                  0\n",
       "승인금리                  0\n",
       "신청여부(타겟)              0\n",
       "dtype: int64"
      ]
     },
     "execution_count": 107,
     "metadata": {},
     "output_type": "execute_result"
    }
   ],
   "source": [
    "user_loan_train[user_loan_train[\"한도조회당시유저신용점수\"].notnull()].isnull().sum()"
   ]
  },
  {
   "cell_type": "code",
   "execution_count": 114,
   "id": "d75b7c03",
   "metadata": {},
   "outputs": [],
   "source": [
    "#cred_pred_col = [\"연소득\",\"근로형태\", \"고용형태\",\"기대출수\",\"기대출금액\",\"승인한도\",\"승인금리\"]\n",
    "cred_pred_col = [\"연소득\",\"근로형태\", \"대출목적\", \"고용형태\",\"기대출수\",\"기대출금액\",\"승인한도\",\"승인금리\"]"
   ]
  },
  {
   "cell_type": "code",
   "execution_count": 66,
   "id": "122b6122",
   "metadata": {},
   "outputs": [],
   "source": [
    "def print_best_params(model, params):\n",
    "    grid_model = GridSearchCV(model, param_grid = params, scoring = 'neg_mean_squared_error',cv=5)\n",
    "    grid_model.fit(X_train, y_train)\n",
    "    \n",
    "    rmse = np.sqrt(-1* grid_model.best_score_)\n",
    "    print('{0} 5 CV 시 최적 평균 RMSE 값: {1}, param정보:{2}'.format(model.__class__.__name__,\n",
    "                                        np.round(rmse, 4), grid_model.best_params_))\n",
    "    return grid_model.best_estimator_\n",
    "\n",
    "def get_top_features(model):\n",
    "    ftr_importances_values = model.feature_importances_\n",
    "    ftr_importances = pd.Series(ftr_importances_values, index=X_features.columns  )\n",
    "    ftr_top20 = ftr_importances.sort_values(ascending=False)[:20]\n",
    "    return ftr_top20\n",
    "\n",
    "def get_info(model):\n",
    "    pred = model.predict(X_test).reshape(-1,1)\n",
    "    y_p = minmax_y.inverse_transform(pred)\n",
    "    y_p = robust_y.inverse_transform(y_p)\n",
    "    y_a = minmax_y.inverse_transform(y_test)\n",
    "    y_a = robust_y.inverse_transform(y_a)\n",
    "    \n",
    "    mse = mean_squared_error(y_a,y_p)\n",
    "    rmse = np.sqrt(mse)\n",
    "    \n",
    "    r2 = r2_score(y_a,y_p)\n",
    "    \n",
    "    print('{0} RMSE: {1} R2_SCORE: {2}'.format(model.__class__.__name__, np.round(rmse,3), np.round(r2,3)))\n",
    "    \n",
    "    y_p = pd.DataFrame(y_p)\n",
    "    y_a = pd.DataFrame(y_a) \n",
    "    \n",
    "    plt.figure(figsize = (20,10))\n",
    "    plt.plot(y_a, alpha = 0.2)\n",
    "    plt.plot(y_p, alpha = 0.5)\n",
    "    plt.show()\n",
    "    \n",
    "    return rmse, r2"
   ]
  },
  {
   "cell_type": "markdown",
   "id": "7d6d91d6",
   "metadata": {},
   "source": [
    "* 신용점수예측에 사용되는 열들 중 범주형인 것으로 groupby를 진행한다. (mean)"
   ]
  },
  {
   "cell_type": "code",
   "execution_count": 163,
   "id": "d596fa3c",
   "metadata": {},
   "outputs": [],
   "source": [
    "for_cred_pd2 = pd.concat([user_loan_train,user_loan_target],axis=0).groupby(['유저번호','근로형태','대출목적','고용형태']).mean()"
   ]
  },
  {
   "cell_type": "code",
   "execution_count": 165,
   "id": "b75a3225",
   "metadata": {},
   "outputs": [],
   "source": [
    "for_cred_pd2 = for_cred_pd2.reset_index()"
   ]
  },
  {
   "cell_type": "code",
   "execution_count": 166,
   "id": "1641bfb2",
   "metadata": {},
   "outputs": [],
   "source": [
    "X_features = for_cred_pd2[for_cred_pd2[\"한도조회당시유저신용점수\"].notnull()][cred_pred_col]\n",
    "y_target = for_cred_pd2[for_cred_pd2[\"한도조회당시유저신용점수\"].notnull()][\"한도조회당시유저신용점수\"]\n",
    "\n",
    "X_features = pd.get_dummies(data = X_features, columns = [\"고용형태\"])\n",
    "X_features = pd.get_dummies(data= X_features, columns = [\"근로형태\"])\n",
    "X_features = pd.get_dummies(data= X_features, columns = [\"대출목적\"])\n",
    "\n",
    "minmax_x = MinMaxScaler()\n",
    "minmax_y = MinMaxScaler()\n",
    "robust_x = RobustScaler()\n",
    "robust_y = RobustScaler()\n",
    "\n",
    "robust_x.fit(X_features)\n",
    "robust_y.fit(pd.DataFrame(y_target))\n",
    "\n",
    "X_features_rb = robust_x.transform(X_features)\n",
    "y_target_rb = robust_y.transform(pd.DataFrame(y_target))\n",
    "\n",
    "minmax_x.fit(X_features_rb)\n",
    "minmax_y.fit(y_target_rb)\n",
    "\n",
    "X_features_scaled = minmax_x.transform(X_features_rb)\n",
    "y_target_scaled = minmax_y.transform(y_target_rb)\n",
    "\n",
    "X_features_scaled = pd.DataFrame(X_features_scaled, columns = X_features.columns)\n",
    "y_target_scaled = pd.DataFrame(y_target_scaled, columns = [\"한도조회당시신용점수\"])\n"
   ]
  },
  {
   "cell_type": "code",
   "execution_count": 167,
   "id": "8ddf7d49",
   "metadata": {},
   "outputs": [],
   "source": [
    "X_train, X_test, y_train, y_test = train_test_split(X_features_scaled, y_target_scaled, test_size=0.2, random_state=156)"
   ]
  },
  {
   "cell_type": "code",
   "execution_count": 168,
   "id": "247a49ee",
   "metadata": {},
   "outputs": [
    {
     "data": {
      "text/plain": [
       "<AxesSubplot: ylabel='Count'>"
      ]
     },
     "execution_count": 168,
     "metadata": {},
     "output_type": "execute_result"
    },
    {
     "data": {
      "image/png": "[encoded data removed]",
      "text/plain": [
       "<Figure size 432x288 with 1 Axes>"
      ]
     },
     "metadata": {
      "needs_background": "light"
     },
     "output_type": "display_data"
    }
   ],
   "source": [
    "sns.histplot(y_target_scaled)"
   ]
  },
  {
   "cell_type": "code",
   "execution_count": 173,
   "id": "b72fb0ce",
   "metadata": {},
   "outputs": [
    {
     "name": "stdout",
     "output_type": "stream",
     "text": [
      "LGBMRegressor 5 CV 시 최적 평균 RMSE 값: 0.0798, param정보:{'learning_rate': 0.05, 'n_estimators': 1000}\n"
     ]
    }
   ],
   "source": [
    "lgbm_params = {'n_estimators':[1000], 'learning_rate' : [0.01,0.03,0.05]}\n",
    "lgbm_reg = LGBMRegressor(n_estimators=1000, learning_rate=0.05, max_depth = 20, \n",
    "                         subsample=0.8, colsample_bytree=0.4, reg_lambda=10, n_jobs=-1, device = \"gpu\")\n",
    "\n",
    "best_lgbm = print_best_params(lgbm_reg, lgbm_params)"
   ]
  },
  {
   "cell_type": "code",
   "execution_count": 174,
   "id": "91fa766a",
   "metadata": {},
   "outputs": [
    {
     "name": "stdout",
     "output_type": "stream",
     "text": [
      "LGBMRegressor RMSE: 74.468 R2_SCORE: 0.641\n"
     ]
    },
    {
     "data": {
      "image/png": "[encoded data removed]",
      "text/plain": [
       "<Figure size 1440x720 with 1 Axes>"
      ]
     },
     "metadata": {
      "needs_background": "light"
     },
     "output_type": "display_data"
    },
    {
     "data": {
      "text/plain": [
       "(74.46760559725287, 0.6409952370682341)"
      ]
     },
     "execution_count": 174,
     "metadata": {},
     "output_type": "execute_result"
    }
   ],
   "source": [
    "get_info(best_lgbm)"
   ]
  },
  {
   "cell_type": "code",
   "execution_count": 175,
   "id": "fae65ddd",
   "metadata": {},
   "outputs": [
    {
     "data": {
      "image/png": "[encoded data removed]",
      "text/plain": [
       "<Figure size 1080x720 with 1 Axes>"
      ]
     },
     "metadata": {
      "needs_background": "light"
     },
     "output_type": "display_data"
    }
   ],
   "source": [
    "fig, axs = plt.subplots(figsize=(15,10),nrows=1, ncols=1)\n",
    "fig.tight_layout() \n",
    "\n",
    "ftr_top20 = get_top_features(best_lgbm)\n",
    "\n",
    "for label in (axs.get_xticklabels() + axs.get_yticklabels()):\n",
    "    label.set_fontsize(22)\n",
    "    sns.barplot(x=ftr_top20.values, y=ftr_top20.index , ax=axs)"
   ]
  },
  {
   "cell_type": "code",
   "execution_count": 176,
   "id": "82bfd9d4",
   "metadata": {},
   "outputs": [
    {
     "data": {
      "text/plain": [
       "['./cred_lgbm']"
      ]
     },
     "execution_count": 176,
     "metadata": {},
     "output_type": "execute_result"
    }
   ],
   "source": [
    "joblib.dump(best_lgbm,'./cred_lgbm')"
   ]
  },
  {
   "cell_type": "code",
   "execution_count": 181,
   "id": "19604e8d",
   "metadata": {},
   "outputs": [],
   "source": [
    "X_predict_df = for_cred_pd2[for_cred_pd2[\"한도조회당시유저신용점수\"].isnull()][cred_pred_col]\n",
    "X_predict_df = pd.get_dummies(data = X_predict_df, columns = [\"고용형태\"])\n",
    "X_predict_df = pd.get_dummies(data= X_predict_df, columns = [\"근로형태\"])\n",
    "X_predict_df = pd.get_dummies(data= X_predict_df, columns = [\"대출목적\"])"
   ]
  },
  {
   "cell_type": "code",
   "execution_count": 183,
   "id": "0ba28f76",
   "metadata": {},
   "outputs": [],
   "source": [
    "cred_col = X_predict_df.columns"
   ]
  },
  {
   "cell_type": "code",
   "execution_count": 184,
   "id": "9169704a",
   "metadata": {},
   "outputs": [],
   "source": [
    "X_predict_df = robust_x.transform(X_predict_df)\n",
    "X_predict_df = minmax_x.transform(X_predict_df)\n",
    "X_predict_df = pd.DataFrame(X_predict_df, columns = cred_col) "
   ]
  },
  {
   "cell_type": "code",
   "execution_count": 186,
   "id": "501ebe0c",
   "metadata": {},
   "outputs": [],
   "source": [
    "pred_df = best_lgbm.predict(X_predict_df).reshape(-1,1)"
   ]
  },
  {
   "cell_type": "code",
   "execution_count": 187,
   "id": "883bf8aa",
   "metadata": {},
   "outputs": [],
   "source": [
    "pred_df = minmax_y.inverse_transform(pred_df)\n",
    "pred_df = robust_y.inverse_transform(pred_df)"
   ]
  },
  {
   "cell_type": "markdown",
   "id": "eded1a34",
   "metadata": {},
   "source": [
    "* 예측값의 분포를 보면 실제분포와 비슷함을 볼 수 있다."
   ]
  },
  {
   "cell_type": "code",
   "execution_count": 189,
   "id": "df469c68",
   "metadata": {},
   "outputs": [
    {
     "data": {
      "text/plain": [
       "<AxesSubplot: ylabel='Count'>"
      ]
     },
     "execution_count": 189,
     "metadata": {},
     "output_type": "execute_result"
    },
    {
     "data": {
      "image/png": "[encoded data removed]",
      "text/plain": [
       "<Figure size 432x288 with 1 Axes>"
      ]
     },
     "metadata": {
      "needs_background": "light"
     },
     "output_type": "display_data"
    }
   ],
   "source": [
    "sns.histplot(pred_df)"
   ]
  },
  {
   "cell_type": "code",
   "execution_count": 198,
   "id": "1dd8dd41",
   "metadata": {},
   "outputs": [],
   "source": [
    "pred_cred_df = for_cred_pd2[for_cred_pd2[\"한도조회당시유저신용점수\"].isnull()][['유저번호','근로형태','대출목적','고용형태']]\n",
    "pred_cred_df[\"한도조회당시유저신용점수예측\"] = pred_df.round(1)"
   ]
  },
  {
   "cell_type": "code",
   "execution_count": 199,
   "id": "d25465ce",
   "metadata": {},
   "outputs": [
    {
     "data": {
      "text/html": [
       "<div>\n",
       "<style scoped>\n",
       "    .dataframe tbody tr th:only-of-type {\n",
       "        vertical-align: middle;\n",
       "    }\n",
       "\n",
       "    .dataframe tbody tr th {\n",
       "        vertical-align: top;\n",
       "    }\n",
       "\n",
       "    .dataframe thead th {\n",
       "        text-align: right;\n",
       "    }\n",
       "</style>\n",
       "<table border=\"1\" class=\"dataframe\">\n",
       "  <thead>\n",
       "    <tr style=\"text-align: right;\">\n",
       "      <th></th>\n",
       "      <th>유저번호</th>\n",
       "      <th>근로형태</th>\n",
       "      <th>대출목적</th>\n",
       "      <th>고용형태</th>\n",
       "      <th>한도조회당시유저신용점수예측</th>\n",
       "    </tr>\n",
       "  </thead>\n",
       "  <tbody>\n",
       "    <tr>\n",
       "      <th>4</th>\n",
       "      <td>14</td>\n",
       "      <td>EARNEDINCOME</td>\n",
       "      <td>대환대출</td>\n",
       "      <td>정규직</td>\n",
       "      <td>613.9</td>\n",
       "    </tr>\n",
       "    <tr>\n",
       "      <th>6</th>\n",
       "      <td>19</td>\n",
       "      <td>OTHERINCOME</td>\n",
       "      <td>생활비</td>\n",
       "      <td>기타</td>\n",
       "      <td>640.2</td>\n",
       "    </tr>\n",
       "    <tr>\n",
       "      <th>41</th>\n",
       "      <td>74</td>\n",
       "      <td>EARNEDINCOME</td>\n",
       "      <td>기타</td>\n",
       "      <td>정규직</td>\n",
       "      <td>789.6</td>\n",
       "    </tr>\n",
       "    <tr>\n",
       "      <th>42</th>\n",
       "      <td>75</td>\n",
       "      <td>EARNEDINCOME</td>\n",
       "      <td>생활비</td>\n",
       "      <td>정규직</td>\n",
       "      <td>557.2</td>\n",
       "    </tr>\n",
       "    <tr>\n",
       "      <th>63</th>\n",
       "      <td>133</td>\n",
       "      <td>OTHERINCOME</td>\n",
       "      <td>생활비</td>\n",
       "      <td>기타</td>\n",
       "      <td>733.6</td>\n",
       "    </tr>\n",
       "    <tr>\n",
       "      <th>...</th>\n",
       "      <td>...</td>\n",
       "      <td>...</td>\n",
       "      <td>...</td>\n",
       "      <td>...</td>\n",
       "      <td>...</td>\n",
       "    </tr>\n",
       "    <tr>\n",
       "      <th>435386</th>\n",
       "      <td>879634</td>\n",
       "      <td>OTHERINCOME</td>\n",
       "      <td>생활비</td>\n",
       "      <td>기타</td>\n",
       "      <td>686.7</td>\n",
       "    </tr>\n",
       "    <tr>\n",
       "      <th>435404</th>\n",
       "      <td>879685</td>\n",
       "      <td>EARNEDINCOME</td>\n",
       "      <td>전월세보증금</td>\n",
       "      <td>정규직</td>\n",
       "      <td>911.6</td>\n",
       "    </tr>\n",
       "    <tr>\n",
       "      <th>435405</th>\n",
       "      <td>879688</td>\n",
       "      <td>OTHERINCOME</td>\n",
       "      <td>대환대출</td>\n",
       "      <td>기타</td>\n",
       "      <td>651.6</td>\n",
       "    </tr>\n",
       "    <tr>\n",
       "      <th>435411</th>\n",
       "      <td>879695</td>\n",
       "      <td>EARNEDINCOME2</td>\n",
       "      <td>대환대출</td>\n",
       "      <td>정규직</td>\n",
       "      <td>643.3</td>\n",
       "    </tr>\n",
       "    <tr>\n",
       "      <th>435413</th>\n",
       "      <td>879697</td>\n",
       "      <td>EARNEDINCOME</td>\n",
       "      <td>주택구입</td>\n",
       "      <td>계약직</td>\n",
       "      <td>970.4</td>\n",
       "    </tr>\n",
       "  </tbody>\n",
       "</table>\n",
       "<p>54085 rows × 5 columns</p>\n",
       "</div>"
      ],
      "text/plain": [
       "          유저번호           근로형태    대출목적 고용형태  한도조회당시유저신용점수예측\n",
       "4           14   EARNEDINCOME    대환대출  정규직           613.9\n",
       "6           19    OTHERINCOME     생활비   기타           640.2\n",
       "41          74   EARNEDINCOME      기타  정규직           789.6\n",
       "42          75   EARNEDINCOME     생활비  정규직           557.2\n",
       "63         133    OTHERINCOME     생활비   기타           733.6\n",
       "...        ...            ...     ...  ...             ...\n",
       "435386  879634    OTHERINCOME     생활비   기타           686.7\n",
       "435404  879685   EARNEDINCOME  전월세보증금  정규직           911.6\n",
       "435405  879688    OTHERINCOME    대환대출   기타           651.6\n",
       "435411  879695  EARNEDINCOME2    대환대출  정규직           643.3\n",
       "435413  879697   EARNEDINCOME    주택구입  계약직           970.4\n",
       "\n",
       "[54085 rows x 5 columns]"
      ]
     },
     "execution_count": 199,
     "metadata": {},
     "output_type": "execute_result"
    }
   ],
   "source": [
    "pred_cred_df"
   ]
  },
  {
   "cell_type": "code",
   "execution_count": 202,
   "id": "fbde5b3f",
   "metadata": {},
   "outputs": [],
   "source": [
    "user_loan_train = pd.merge(user_loan_train, pred_cred_df, how = 'left', left_on =['유저번호','근로형태','대출목적','고용형태'],right_on=['유저번호','근로형태','대출목적','고용형태'])"
   ]
  },
  {
   "cell_type": "code",
   "execution_count": 205,
   "id": "9c5b4a2d",
   "metadata": {},
   "outputs": [],
   "source": [
    "user_loan_target = pd.merge(user_loan_target, pred_cred_df, how = 'left', left_on =['유저번호','근로형태','대출목적','고용형태'],right_on=['유저번호','근로형태','대출목적','고용형태'])"
   ]
  },
  {
   "cell_type": "code",
   "execution_count": 203,
   "id": "bbf4b180",
   "metadata": {},
   "outputs": [],
   "source": [
    "user_loan_train[\"한도조회당시유저신용점수\"] = np.where(pd.notnull(user_loan_train[\"한도조회당시유저신용점수\"])==True, user_loan_train[\"한도조회당시유저신용점수\"], user_loan_train[\"한도조회당시유저신용점수예측\"])"
   ]
  },
  {
   "cell_type": "code",
   "execution_count": 206,
   "id": "d1b5af9a",
   "metadata": {},
   "outputs": [],
   "source": [
    "user_loan_target[\"한도조회당시유저신용점수\"] = np.where(pd.notnull(user_loan_target[\"한도조회당시유저신용점수\"])==True, user_loan_target[\"한도조회당시유저신용점수\"], user_loan_target[\"한도조회당시유저신용점수예측\"])"
   ]
  },
  {
   "cell_type": "code",
   "execution_count": 208,
   "id": "0f6230dc",
   "metadata": {},
   "outputs": [],
   "source": [
    "user_loan_train.drop(\"한도조회당시유저신용점수예측\", axis=1, inplace = True)\n",
    "user_loan_target.drop(\"한도조회당시유저신용점수예측\", axis=1, inplace = True)"
   ]
  },
  {
   "cell_type": "markdown",
   "id": "b51bdb31",
   "metadata": {},
   "source": [
    "### drop columns = [\"유저성별\", \"입사연월\",\"개인회생자납입완료여부\"]"
   ]
  },
  {
   "cell_type": "code",
   "execution_count": 213,
   "id": "2fcb32c1",
   "metadata": {},
   "outputs": [
    {
     "name": "stdout",
     "output_type": "stream",
     "text": [
      "<class 'pandas.core.frame.DataFrame'>\n",
      "Int64Index: 10264386 entries, 0 to 10264385\n",
      "Data columns (total 25 columns):\n",
      " #   Column        Dtype         \n",
      "---  ------        -----         \n",
      " 0   월             int64         \n",
      " 1   일             int64         \n",
      " 2   생성일시          datetime64[ns]\n",
      " 3   신청서번호         int64         \n",
      " 4   유저번호          int64         \n",
      " 5   나이            float64       \n",
      " 6   유저생년월일        float64       \n",
      " 7   유저성별          float64       \n",
      " 8   한도조회당시유저신용점수  float64       \n",
      " 9   연소득           float64       \n",
      " 10  근로형태          object        \n",
      " 11  입사연월          float64       \n",
      " 12  고용형태          object        \n",
      " 13  주거소유형태        object        \n",
      " 14  대출희망금액        float64       \n",
      " 15  대출목적          object        \n",
      " 16  개인회생자여부       float64       \n",
      " 17  개인회생자납입완료여부   float64       \n",
      " 18  기대출수          float64       \n",
      " 19  기대출금액         float64       \n",
      " 20  금융사번호         int64         \n",
      " 21  상품번호          int64         \n",
      " 22  승인한도          float64       \n",
      " 23  승인금리          float64       \n",
      " 24  신청여부(타겟)      float64       \n",
      "dtypes: datetime64[ns](1), float64(14), int64(6), object(4)\n",
      "memory usage: 2.2+ GB\n"
     ]
    }
   ],
   "source": [
    "user_loan_train.info()"
   ]
  },
  {
   "cell_type": "code",
   "execution_count": 214,
   "id": "3491d6ee",
   "metadata": {},
   "outputs": [],
   "source": [
    "user_loan_train.drop([\"유저생년월일\",\"유저성별\",\"입사연월\",\"개인회생자납입완료여부\"], axis=1, inplace = True)\n",
    "user_loan_target.drop([\"유저생년월일\",\"유저성별\",\"입사연월\",\"개인회생자납입완료여부\"], axis=1, inplace = True)"
   ]
  },
  {
   "cell_type": "markdown",
   "id": "d3214519",
   "metadata": {},
   "source": [
    "**user_loan_train에는 이제 나이 말고 null을 가지는 열이 없다 csv파일로 내보내자**"
   ]
  },
  {
   "cell_type": "code",
   "execution_count": 215,
   "id": "2d698474",
   "metadata": {},
   "outputs": [
    {
     "data": {
      "text/plain": [
       "월                   0\n",
       "일                   0\n",
       "생성일시                0\n",
       "신청서번호               0\n",
       "유저번호                0\n",
       "나이              76988\n",
       "한도조회당시유저신용점수        0\n",
       "연소득                 0\n",
       "근로형태                0\n",
       "고용형태                0\n",
       "주거소유형태              0\n",
       "대출희망금액              0\n",
       "대출목적                0\n",
       "개인회생자여부             0\n",
       "기대출수                0\n",
       "기대출금액               0\n",
       "금융사번호               0\n",
       "상품번호                0\n",
       "승인한도                0\n",
       "승인금리                0\n",
       "신청여부(타겟)            0\n",
       "dtype: int64"
      ]
     },
     "execution_count": 215,
     "metadata": {},
     "output_type": "execute_result"
    }
   ],
   "source": [
    "user_loan_train.isnull().sum()"
   ]
  },
  {
   "cell_type": "code",
   "execution_count": 220,
   "id": "415c91dc",
   "metadata": {},
   "outputs": [],
   "source": [
    "user_loan_train.to_csv(\"user_loan_train.csv\", encoding = 'cp949', index = False)"
   ]
  },
  {
   "cell_type": "markdown",
   "id": "2635ffc6",
   "metadata": {},
   "source": [
    "**user_loan_target에는 연소득에 널값이 있다**"
   ]
  },
  {
   "cell_type": "code",
   "execution_count": 219,
   "id": "fb22e9d7",
   "metadata": {},
   "outputs": [
    {
     "data": {
      "text/plain": [
       "월                     0\n",
       "일                     0\n",
       "생성일시                  0\n",
       "신청서번호                 0\n",
       "유저번호                  0\n",
       "나이                23985\n",
       "한도조회당시유저신용점수          0\n",
       "연소득                   6\n",
       "근로형태                  0\n",
       "고용형태                  0\n",
       "주거소유형태                0\n",
       "대출희망금액                0\n",
       "대출목적                  0\n",
       "개인회생자여부               0\n",
       "기대출수                  0\n",
       "기대출금액                 0\n",
       "금융사번호                 0\n",
       "상품번호                  0\n",
       "승인한도                  0\n",
       "승인금리                  0\n",
       "신청여부(타겟)        3255482\n",
       "dtype: int64"
      ]
     },
     "execution_count": 219,
     "metadata": {},
     "output_type": "execute_result"
    }
   ],
   "source": [
    "user_loan_target.isnull().sum()"
   ]
  },
  {
   "cell_type": "markdown",
   "id": "8ef28392",
   "metadata": {},
   "source": [
    "* target에서 연소득이 null인 유저번호는 670502 한명 뿐이다. train 데이터에 유저의 정보는 없다.\n",
    "* 한도조회당시 신용점수가 매우 높은 것을 확인할 수 있다. 0으로 대체하기엔 무리가 있어보인다. \n",
    "* 대출목적이 사업자금인 사람들의 평균으로 대체하자."
   ]
  },
  {
   "cell_type": "code",
   "execution_count": 230,
   "id": "fd76e7ce",
   "metadata": {},
   "outputs": [
    {
     "data": {
      "text/html": [
       "<div>\n",
       "<style scoped>\n",
       "    .dataframe tbody tr th:only-of-type {\n",
       "        vertical-align: middle;\n",
       "    }\n",
       "\n",
       "    .dataframe tbody tr th {\n",
       "        vertical-align: top;\n",
       "    }\n",
       "\n",
       "    .dataframe thead th {\n",
       "        text-align: right;\n",
       "    }\n",
       "</style>\n",
       "<table border=\"1\" class=\"dataframe\">\n",
       "  <thead>\n",
       "    <tr style=\"text-align: right;\">\n",
       "      <th></th>\n",
       "      <th>월</th>\n",
       "      <th>일</th>\n",
       "      <th>생성일시</th>\n",
       "      <th>신청서번호</th>\n",
       "      <th>유저번호</th>\n",
       "      <th>나이</th>\n",
       "      <th>한도조회당시유저신용점수</th>\n",
       "      <th>연소득</th>\n",
       "      <th>근로형태</th>\n",
       "      <th>고용형태</th>\n",
       "      <th>주거소유형태</th>\n",
       "      <th>대출희망금액</th>\n",
       "      <th>대출목적</th>\n",
       "      <th>개인회생자여부</th>\n",
       "      <th>기대출수</th>\n",
       "      <th>기대출금액</th>\n",
       "      <th>금융사번호</th>\n",
       "      <th>상품번호</th>\n",
       "      <th>승인한도</th>\n",
       "      <th>승인금리</th>\n",
       "      <th>신청여부(타겟)</th>\n",
       "    </tr>\n",
       "  </thead>\n",
       "  <tbody>\n",
       "    <tr>\n",
       "      <th>1377424</th>\n",
       "      <td>6</td>\n",
       "      <td>30</td>\n",
       "      <td>2022-06-30 21:32:18</td>\n",
       "      <td>341149</td>\n",
       "      <td>670502</td>\n",
       "      <td>53.0</td>\n",
       "      <td>930.0</td>\n",
       "      <td>NaN</td>\n",
       "      <td>OTHERINCOME</td>\n",
       "      <td>기타</td>\n",
       "      <td>기타가족소유</td>\n",
       "      <td>6000000.0</td>\n",
       "      <td>사업자금</td>\n",
       "      <td>0.0</td>\n",
       "      <td>1.0</td>\n",
       "      <td>3000000.0</td>\n",
       "      <td>64</td>\n",
       "      <td>254</td>\n",
       "      <td>45000000.0</td>\n",
       "      <td>10.3</td>\n",
       "      <td>NaN</td>\n",
       "    </tr>\n",
       "    <tr>\n",
       "      <th>1377425</th>\n",
       "      <td>6</td>\n",
       "      <td>30</td>\n",
       "      <td>2022-06-30 21:32:18</td>\n",
       "      <td>341149</td>\n",
       "      <td>670502</td>\n",
       "      <td>53.0</td>\n",
       "      <td>930.0</td>\n",
       "      <td>NaN</td>\n",
       "      <td>OTHERINCOME</td>\n",
       "      <td>기타</td>\n",
       "      <td>기타가족소유</td>\n",
       "      <td>6000000.0</td>\n",
       "      <td>사업자금</td>\n",
       "      <td>0.0</td>\n",
       "      <td>1.0</td>\n",
       "      <td>3000000.0</td>\n",
       "      <td>13</td>\n",
       "      <td>262</td>\n",
       "      <td>35000000.0</td>\n",
       "      <td>16.4</td>\n",
       "      <td>NaN</td>\n",
       "    </tr>\n",
       "    <tr>\n",
       "      <th>1377426</th>\n",
       "      <td>6</td>\n",
       "      <td>30</td>\n",
       "      <td>2022-06-30 21:32:18</td>\n",
       "      <td>341149</td>\n",
       "      <td>670502</td>\n",
       "      <td>53.0</td>\n",
       "      <td>930.0</td>\n",
       "      <td>NaN</td>\n",
       "      <td>OTHERINCOME</td>\n",
       "      <td>기타</td>\n",
       "      <td>기타가족소유</td>\n",
       "      <td>6000000.0</td>\n",
       "      <td>사업자금</td>\n",
       "      <td>0.0</td>\n",
       "      <td>1.0</td>\n",
       "      <td>3000000.0</td>\n",
       "      <td>38</td>\n",
       "      <td>113</td>\n",
       "      <td>5000000.0</td>\n",
       "      <td>19.5</td>\n",
       "      <td>NaN</td>\n",
       "    </tr>\n",
       "    <tr>\n",
       "      <th>1377427</th>\n",
       "      <td>6</td>\n",
       "      <td>30</td>\n",
       "      <td>2022-06-30 21:32:18</td>\n",
       "      <td>341149</td>\n",
       "      <td>670502</td>\n",
       "      <td>53.0</td>\n",
       "      <td>930.0</td>\n",
       "      <td>NaN</td>\n",
       "      <td>OTHERINCOME</td>\n",
       "      <td>기타</td>\n",
       "      <td>기타가족소유</td>\n",
       "      <td>6000000.0</td>\n",
       "      <td>사업자금</td>\n",
       "      <td>0.0</td>\n",
       "      <td>1.0</td>\n",
       "      <td>3000000.0</td>\n",
       "      <td>14</td>\n",
       "      <td>128</td>\n",
       "      <td>15000000.0</td>\n",
       "      <td>12.5</td>\n",
       "      <td>NaN</td>\n",
       "    </tr>\n",
       "    <tr>\n",
       "      <th>1377428</th>\n",
       "      <td>6</td>\n",
       "      <td>30</td>\n",
       "      <td>2022-06-30 21:32:18</td>\n",
       "      <td>341149</td>\n",
       "      <td>670502</td>\n",
       "      <td>53.0</td>\n",
       "      <td>930.0</td>\n",
       "      <td>NaN</td>\n",
       "      <td>OTHERINCOME</td>\n",
       "      <td>기타</td>\n",
       "      <td>기타가족소유</td>\n",
       "      <td>6000000.0</td>\n",
       "      <td>사업자금</td>\n",
       "      <td>0.0</td>\n",
       "      <td>1.0</td>\n",
       "      <td>3000000.0</td>\n",
       "      <td>29</td>\n",
       "      <td>265</td>\n",
       "      <td>10000000.0</td>\n",
       "      <td>9.1</td>\n",
       "      <td>NaN</td>\n",
       "    </tr>\n",
       "    <tr>\n",
       "      <th>1377429</th>\n",
       "      <td>6</td>\n",
       "      <td>30</td>\n",
       "      <td>2022-06-30 21:32:18</td>\n",
       "      <td>341149</td>\n",
       "      <td>670502</td>\n",
       "      <td>53.0</td>\n",
       "      <td>930.0</td>\n",
       "      <td>NaN</td>\n",
       "      <td>OTHERINCOME</td>\n",
       "      <td>기타</td>\n",
       "      <td>기타가족소유</td>\n",
       "      <td>6000000.0</td>\n",
       "      <td>사업자금</td>\n",
       "      <td>0.0</td>\n",
       "      <td>1.0</td>\n",
       "      <td>3000000.0</td>\n",
       "      <td>57</td>\n",
       "      <td>71</td>\n",
       "      <td>23000000.0</td>\n",
       "      <td>15.4</td>\n",
       "      <td>NaN</td>\n",
       "    </tr>\n",
       "  </tbody>\n",
       "</table>\n",
       "</div>"
      ],
      "text/plain": [
       "         월   일                생성일시   신청서번호    유저번호    나이  한도조회당시유저신용점수  연소득  \\\n",
       "1377424  6  30 2022-06-30 21:32:18  341149  670502  53.0         930.0  NaN   \n",
       "1377425  6  30 2022-06-30 21:32:18  341149  670502  53.0         930.0  NaN   \n",
       "1377426  6  30 2022-06-30 21:32:18  341149  670502  53.0         930.0  NaN   \n",
       "1377427  6  30 2022-06-30 21:32:18  341149  670502  53.0         930.0  NaN   \n",
       "1377428  6  30 2022-06-30 21:32:18  341149  670502  53.0         930.0  NaN   \n",
       "1377429  6  30 2022-06-30 21:32:18  341149  670502  53.0         930.0  NaN   \n",
       "\n",
       "                근로형태 고용형태  주거소유형태     대출희망금액  대출목적  개인회생자여부  기대출수      기대출금액  \\\n",
       "1377424  OTHERINCOME   기타  기타가족소유  6000000.0  사업자금      0.0   1.0  3000000.0   \n",
       "1377425  OTHERINCOME   기타  기타가족소유  6000000.0  사업자금      0.0   1.0  3000000.0   \n",
       "1377426  OTHERINCOME   기타  기타가족소유  6000000.0  사업자금      0.0   1.0  3000000.0   \n",
       "1377427  OTHERINCOME   기타  기타가족소유  6000000.0  사업자금      0.0   1.0  3000000.0   \n",
       "1377428  OTHERINCOME   기타  기타가족소유  6000000.0  사업자금      0.0   1.0  3000000.0   \n",
       "1377429  OTHERINCOME   기타  기타가족소유  6000000.0  사업자금      0.0   1.0  3000000.0   \n",
       "\n",
       "         금융사번호  상품번호        승인한도  승인금리  신청여부(타겟)  \n",
       "1377424     64   254  45000000.0  10.3       NaN  \n",
       "1377425     13   262  35000000.0  16.4       NaN  \n",
       "1377426     38   113   5000000.0  19.5       NaN  \n",
       "1377427     14   128  15000000.0  12.5       NaN  \n",
       "1377428     29   265  10000000.0   9.1       NaN  \n",
       "1377429     57    71  23000000.0  15.4       NaN  "
      ]
     },
     "execution_count": 230,
     "metadata": {},
     "output_type": "execute_result"
    }
   ],
   "source": [
    "user_loan_target[user_loan_target[\"연소득\"].isnull()]"
   ]
  },
  {
   "cell_type": "code",
   "execution_count": 238,
   "id": "9e4468a9",
   "metadata": {},
   "outputs": [
    {
     "data": {
      "text/html": [
       "<div>\n",
       "<style scoped>\n",
       "    .dataframe tbody tr th:only-of-type {\n",
       "        vertical-align: middle;\n",
       "    }\n",
       "\n",
       "    .dataframe tbody tr th {\n",
       "        vertical-align: top;\n",
       "    }\n",
       "\n",
       "    .dataframe thead th {\n",
       "        text-align: right;\n",
       "    }\n",
       "</style>\n",
       "<table border=\"1\" class=\"dataframe\">\n",
       "  <thead>\n",
       "    <tr style=\"text-align: right;\">\n",
       "      <th></th>\n",
       "      <th>월</th>\n",
       "      <th>일</th>\n",
       "      <th>생성일시</th>\n",
       "      <th>신청서번호</th>\n",
       "      <th>유저번호</th>\n",
       "      <th>나이</th>\n",
       "      <th>한도조회당시유저신용점수</th>\n",
       "      <th>연소득</th>\n",
       "      <th>근로형태</th>\n",
       "      <th>고용형태</th>\n",
       "      <th>주거소유형태</th>\n",
       "      <th>대출희망금액</th>\n",
       "      <th>대출목적</th>\n",
       "      <th>개인회생자여부</th>\n",
       "      <th>기대출수</th>\n",
       "      <th>기대출금액</th>\n",
       "      <th>금융사번호</th>\n",
       "      <th>상품번호</th>\n",
       "      <th>승인한도</th>\n",
       "      <th>승인금리</th>\n",
       "      <th>신청여부(타겟)</th>\n",
       "    </tr>\n",
       "  </thead>\n",
       "  <tbody>\n",
       "  </tbody>\n",
       "</table>\n",
       "</div>"
      ],
      "text/plain": [
       "Empty DataFrame\n",
       "Columns: [월, 일, 생성일시, 신청서번호, 유저번호, 나이, 한도조회당시유저신용점수, 연소득, 근로형태, 고용형태, 주거소유형태, 대출희망금액, 대출목적, 개인회생자여부, 기대출수, 기대출금액, 금융사번호, 상품번호, 승인한도, 승인금리, 신청여부(타겟)]\n",
       "Index: []"
      ]
     },
     "execution_count": 238,
     "metadata": {},
     "output_type": "execute_result"
    }
   ],
   "source": [
    "user_loan_train[user_loan_train[\"유저번호\"]==670502]"
   ]
  },
  {
   "cell_type": "code",
   "execution_count": 233,
   "id": "41fc689d",
   "metadata": {},
   "outputs": [
    {
     "name": "stdout",
     "output_type": "stream",
     "text": [
      "60845675.908903316\n"
     ]
    }
   ],
   "source": [
    "m = user_loan_target[user_loan_target[\"대출목적\"] == \"사업자금\"][\"연소득\"].mean()\n",
    "print(m)"
   ]
  },
  {
   "cell_type": "code",
   "execution_count": 236,
   "id": "ad5b8772",
   "metadata": {},
   "outputs": [
    {
     "data": {
      "text/plain": [
       "0          30000000.0\n",
       "1          30000000.0\n",
       "2          30000000.0\n",
       "3          30000000.0\n",
       "4          30000000.0\n",
       "              ...    \n",
       "3257154    78000000.0\n",
       "3257155    78000000.0\n",
       "3257156    78000000.0\n",
       "3257157    78000000.0\n",
       "3257158    78000000.0\n",
       "Name: 연소득, Length: 3255482, dtype: float64"
      ]
     },
     "execution_count": 236,
     "metadata": {},
     "output_type": "execute_result"
    }
   ],
   "source": [
    "user_loan_target[\"연소득\"].fillna(round(m,1))"
   ]
  },
  {
   "cell_type": "markdown",
   "id": "16cc8925",
   "metadata": {},
   "source": [
    "**이제 타겟데이터에도 나이빼고는 널값이 없으므로 csv파일로 내보낸다.**"
   ]
  },
  {
   "cell_type": "code",
   "execution_count": 239,
   "id": "1c7a65c5",
   "metadata": {},
   "outputs": [
    {
     "data": {
      "text/plain": [
       "월                     0\n",
       "일                     0\n",
       "생성일시                  0\n",
       "신청서번호                 0\n",
       "유저번호                  0\n",
       "나이                23985\n",
       "한도조회당시유저신용점수          0\n",
       "연소득                   6\n",
       "근로형태                  0\n",
       "고용형태                  0\n",
       "주거소유형태                0\n",
       "대출희망금액                0\n",
       "대출목적                  0\n",
       "개인회생자여부               0\n",
       "기대출수                  0\n",
       "기대출금액                 0\n",
       "금융사번호                 0\n",
       "상품번호                  0\n",
       "승인한도                  0\n",
       "승인금리                  0\n",
       "신청여부(타겟)        3255482\n",
       "dtype: int64"
      ]
     },
     "execution_count": 239,
     "metadata": {},
     "output_type": "execute_result"
    }
   ],
   "source": [
    "user_loan_target.isnull().sum()"
   ]
  },
  {
   "cell_type": "code",
   "execution_count": 240,
   "id": "0422ee6d",
   "metadata": {},
   "outputs": [],
   "source": [
    "user_loan_target.to_csv(\"user_loan_target.csv\", encoding = 'cp949', index = False)"
   ]
  }
 ],
 "metadata": {
  "kernelspec": {
   "display_name": "Python 3 (ipykernel)",
   "language": "python",
   "name": "python3"
  },
  "language_info": {
   "codemirror_mode": {
    "name": "ipython",
    "version": 3
   },
   "file_extension": ".py",
   "mimetype": "text/x-python",
   "name": "python",
   "nbconvert_exporter": "python",
   "pygments_lexer": "ipython3",
   "version": "3.9.12"
  }
 },
 "nbformat": 4,
 "nbformat_minor": 5
}
