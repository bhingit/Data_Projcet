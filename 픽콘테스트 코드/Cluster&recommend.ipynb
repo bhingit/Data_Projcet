{
 "cells": [
  {
   "cell_type": "code",
   "execution_count": 1,
   "id": "b2167e8e",
   "metadata": {},
   "outputs": [],
   "source": [
    "import pandas as pd\n",
    "import numpy as np\n",
    "pd.set_option('display.max_columns', None)\n",
    "\n",
    "import matplotlib.pyplot as plt\n",
    "import seaborn as sns\n",
    "\n",
    "import matplotlib.font_manager as fm\n",
    "from matplotlib import rc\n",
    "\n",
    "plt.rcParams['axes.unicode_minus']=False\n",
    "plt.rcParams['font.family']='NanumGothic'\n",
    "%matplotlib inline \n",
    "\n",
    "pd.set_option('display.max_columns', None)"
   ]
  },
  {
   "cell_type": "code",
   "execution_count": 17,
   "id": "759e8078",
   "metadata": {},
   "outputs": [],
   "source": [
    "from sklearn.decomposition import PCA\n",
    "from sklearn.cluster import KMeans\n",
    "from sklearn.preprocessing import MinMaxScaler,StandardScaler"
   ]
  },
  {
   "cell_type": "code",
   "execution_count": 3,
   "id": "5987c30b",
   "metadata": {},
   "outputs": [
    {
     "name": "stdout",
     "output_type": "stream",
     "text": [
      "1\n",
      "2\n",
      "3\n"
     ]
    }
   ],
   "source": [
    "user_loan_train = pd.read_csv(\"./사용데이터/user_loan_train.csv\", encoding = 'cp949')\n",
    "user_loan_target = pd.read_csv(\"./사용데이터/user_loan_target.csv\", encoding = 'cp949')\n",
    "cluster_info = pd.read_csv(\"./사용데이터/cluster_result.csv\", encoding = 'cp949')\n",
    "bank_cluster_info = pd.read_csv(\"./사용데이터/bank_cluster_result.csv\", encoding = 'cp949')\n",
    "print(1)\n",
    "\n",
    "user_loan_train = pd.merge(user_loan_train,cluster_info, left_on = '상품번호', right_on = '상품번호', how = 'inner')\n",
    "user_loan_target = pd.merge(user_loan_target,cluster_info, left_on = '상품번호', right_on = '상품번호', how = 'inner')\n",
    "print(2)\n",
    "\n",
    "user_loan_train = pd.merge(user_loan_train,bank_cluster_info, left_on = '금융사번호', right_on = '금융사번호', how = 'inner')\n",
    "user_loan_target = pd.merge(user_loan_target,bank_cluster_info, left_on = '금융사번호', right_on = '금융사번호', how = 'inner')\n",
    "print(3)"
   ]
  },
  {
   "cell_type": "markdown",
   "id": "37c2bed5",
   "metadata": {},
   "source": [
    "### 추천 상품 수 추가"
   ]
  },
  {
   "cell_type": "code",
   "execution_count": 4,
   "id": "243d028f",
   "metadata": {},
   "outputs": [],
   "source": [
    "count_df1 = user_loan_train[[\"신청서번호\",\"월\"]]\n",
    "count_df2 = count_df1.groupby(\"신청서번호\").count().reset_index()\n",
    "count_df2.rename(columns = {\"월\": \"추천상품수\"}, inplace = True)\n",
    "count_df2 = pd.merge(count_df1, count_df2, how = \"left\", left_on = \"신청서번호\", right_on = \"신청서번호\")\n",
    "user_loan_train[\"추천상품수\"]= count_df2[\"추천상품수\"]"
   ]
  },
  {
   "cell_type": "markdown",
   "id": "0477bb38",
   "metadata": {},
   "source": [
    "### 최소금리여부 추가\n",
    "* 추천된 금리중 최소인가를 판단하는 라벨을 넣는다."
   ]
  },
  {
   "cell_type": "code",
   "execution_count": 5,
   "id": "921fc87e",
   "metadata": {},
   "outputs": [],
   "source": [
    "ir_df = user_loan_train[[\"신청서번호\",\"승인금리\"]]\n",
    "ir_min_df=pd.DataFrame(ir_df.groupby(\"신청서번호\").min()).reset_index()\n",
    "ir_min_df.rename(columns = {\"승인금리\":\"승인금리최소\"}, inplace = True)\n",
    "ir_min_df = pd.merge(ir_df, ir_min_df, how = \"left\", left_on = \"신청서번호\", right_on = \"신청서번호\")\n",
    "ir_min_df[\"최소금리여부\"] = ir_min_df[\"승인금리\"] == ir_min_df[\"승인금리최소\"]\n",
    "ir_min_df[\"최소금리여부\"].replace({True:1, False :0}, inplace = True)\n",
    "user_loan_train[\"최소금리여부\"] = ir_min_df[\"최소금리여부\"]"
   ]
  },
  {
   "cell_type": "markdown",
   "id": "d805fbf3",
   "metadata": {},
   "source": [
    "### 최대한도 여부"
   ]
  },
  {
   "cell_type": "code",
   "execution_count": 6,
   "id": "c36bc6ce",
   "metadata": {},
   "outputs": [],
   "source": [
    "lm_df = user_loan_train[[\"신청서번호\",\"승인한도\"]]\n",
    "lm_max_df=pd.DataFrame(lm_df.groupby(\"신청서번호\").max()).reset_index()\n",
    "lm_max_df.rename(columns = {\"승인한도\":\"승인한도최대\"}, inplace = True)\n",
    "lm_max_df = pd.merge(lm_df, lm_max_df, how = \"left\", left_on = \"신청서번호\", right_on = \"신청서번호\")\n",
    "lm_max_df[\"최대한도여부\"] = lm_max_df[\"승인한도\"] == lm_max_df[\"승인한도최대\"]\n",
    "lm_max_df[\"최대한도여부\"].replace({True:1, False :0}, inplace = True)\n",
    "user_loan_train[\"최대한도여부\"] = lm_max_df[\"최대한도여부\"]"
   ]
  },
  {
   "cell_type": "code",
   "execution_count": 64,
   "id": "a50a8ace",
   "metadata": {},
   "outputs": [
    {
     "data": {
      "text/plain": [
       "0           216\n",
       "1           216\n",
       "2           216\n",
       "3           216\n",
       "4           216\n",
       "           ... \n",
       "10264381    238\n",
       "10264382    238\n",
       "10264383    238\n",
       "10264384    238\n",
       "10264385    238\n",
       "Name: 상품번호, Length: 10264386, dtype: int64"
      ]
     },
     "execution_count": 64,
     "metadata": {},
     "output_type": "execute_result"
    }
   ],
   "source": [
    "user_loan_train[\"상품번호\"]"
   ]
  },
  {
   "cell_type": "markdown",
   "id": "9f2befbc",
   "metadata": {},
   "source": [
    "## Clustering 준비"
   ]
  },
  {
   "cell_type": "code",
   "execution_count": 94,
   "id": "d9ff8065",
   "metadata": {},
   "outputs": [],
   "source": [
    "df_positive = user_loan_train[user_loan_train[\"신청여부(타겟)\"]==1]"
   ]
  },
  {
   "cell_type": "code",
   "execution_count": 95,
   "id": "af878958",
   "metadata": {},
   "outputs": [],
   "source": [
    "clus_pd = df_positive[[\"상품번호\",\"추천상품수\",\"승인금리\",\"승인한도\",\"한도조회당시유저신용점수\",\"대출희망금액\"]]"
   ]
  },
  {
   "cell_type": "code",
   "execution_count": 96,
   "id": "c4ae1e9b",
   "metadata": {},
   "outputs": [],
   "source": [
    "df1 = clus_pd.groupby(by=[\"상품번호\"], as_index = False).mean()"
   ]
  },
  {
   "cell_type": "code",
   "execution_count": 97,
   "id": "92aca0a5",
   "metadata": {},
   "outputs": [
    {
     "data": {
      "text/html": [
       "<div>\n",
       "<style scoped>\n",
       "    .dataframe tbody tr th:only-of-type {\n",
       "        vertical-align: middle;\n",
       "    }\n",
       "\n",
       "    .dataframe tbody tr th {\n",
       "        vertical-align: top;\n",
       "    }\n",
       "\n",
       "    .dataframe thead th {\n",
       "        text-align: right;\n",
       "    }\n",
       "</style>\n",
       "<table border=\"1\" class=\"dataframe\">\n",
       "  <thead>\n",
       "    <tr style=\"text-align: right;\">\n",
       "      <th></th>\n",
       "      <th>상품번호</th>\n",
       "      <th>추천상품수</th>\n",
       "      <th>승인금리</th>\n",
       "      <th>승인한도</th>\n",
       "      <th>한도조회당시유저신용점수</th>\n",
       "      <th>대출희망금액</th>\n",
       "    </tr>\n",
       "  </thead>\n",
       "  <tbody>\n",
       "    <tr>\n",
       "      <th>0</th>\n",
       "      <td>1</td>\n",
       "      <td>11.724138</td>\n",
       "      <td>11.692909</td>\n",
       "      <td>2.961429e+07</td>\n",
       "      <td>688.508931</td>\n",
       "      <td>2.948888e+07</td>\n",
       "    </tr>\n",
       "    <tr>\n",
       "      <th>1</th>\n",
       "      <td>5</td>\n",
       "      <td>4.111747</td>\n",
       "      <td>17.546966</td>\n",
       "      <td>1.079101e+07</td>\n",
       "      <td>636.206627</td>\n",
       "      <td>2.401879e+07</td>\n",
       "    </tr>\n",
       "    <tr>\n",
       "      <th>2</th>\n",
       "      <td>7</td>\n",
       "      <td>11.474012</td>\n",
       "      <td>13.521816</td>\n",
       "      <td>3.085944e+07</td>\n",
       "      <td>628.205108</td>\n",
       "      <td>3.871193e+07</td>\n",
       "    </tr>\n",
       "    <tr>\n",
       "      <th>3</th>\n",
       "      <td>8</td>\n",
       "      <td>9.341369</td>\n",
       "      <td>15.454098</td>\n",
       "      <td>1.222372e+07</td>\n",
       "      <td>670.344601</td>\n",
       "      <td>2.887271e+07</td>\n",
       "    </tr>\n",
       "    <tr>\n",
       "      <th>4</th>\n",
       "      <td>12</td>\n",
       "      <td>9.841600</td>\n",
       "      <td>13.828000</td>\n",
       "      <td>1.903680e+07</td>\n",
       "      <td>728.867421</td>\n",
       "      <td>1.850560e+07</td>\n",
       "    </tr>\n",
       "    <tr>\n",
       "      <th>...</th>\n",
       "      <td>...</td>\n",
       "      <td>...</td>\n",
       "      <td>...</td>\n",
       "      <td>...</td>\n",
       "      <td>...</td>\n",
       "      <td>...</td>\n",
       "    </tr>\n",
       "    <tr>\n",
       "      <th>160</th>\n",
       "      <td>265</td>\n",
       "      <td>17.453298</td>\n",
       "      <td>8.315375</td>\n",
       "      <td>2.366852e+07</td>\n",
       "      <td>740.072080</td>\n",
       "      <td>2.853559e+07</td>\n",
       "    </tr>\n",
       "    <tr>\n",
       "      <th>161</th>\n",
       "      <td>266</td>\n",
       "      <td>21.306693</td>\n",
       "      <td>12.492308</td>\n",
       "      <td>3.056943e+07</td>\n",
       "      <td>636.690490</td>\n",
       "      <td>2.680919e+07</td>\n",
       "    </tr>\n",
       "    <tr>\n",
       "      <th>162</th>\n",
       "      <td>267</td>\n",
       "      <td>20.685819</td>\n",
       "      <td>12.355746</td>\n",
       "      <td>2.792421e+07</td>\n",
       "      <td>647.155118</td>\n",
       "      <td>3.035513e+07</td>\n",
       "    </tr>\n",
       "    <tr>\n",
       "      <th>163</th>\n",
       "      <td>268</td>\n",
       "      <td>31.664141</td>\n",
       "      <td>8.321775</td>\n",
       "      <td>2.921652e+07</td>\n",
       "      <td>750.738745</td>\n",
       "      <td>3.849896e+07</td>\n",
       "    </tr>\n",
       "    <tr>\n",
       "      <th>164</th>\n",
       "      <td>270</td>\n",
       "      <td>42.569307</td>\n",
       "      <td>6.042464</td>\n",
       "      <td>3.114576e+07</td>\n",
       "      <td>844.662439</td>\n",
       "      <td>4.152585e+07</td>\n",
       "    </tr>\n",
       "  </tbody>\n",
       "</table>\n",
       "<p>165 rows × 6 columns</p>\n",
       "</div>"
      ],
      "text/plain": [
       "     상품번호      추천상품수       승인금리          승인한도  한도조회당시유저신용점수        대출희망금액\n",
       "0       1  11.724138  11.692909  2.961429e+07    688.508931  2.948888e+07\n",
       "1       5   4.111747  17.546966  1.079101e+07    636.206627  2.401879e+07\n",
       "2       7  11.474012  13.521816  3.085944e+07    628.205108  3.871193e+07\n",
       "3       8   9.341369  15.454098  1.222372e+07    670.344601  2.887271e+07\n",
       "4      12   9.841600  13.828000  1.903680e+07    728.867421  1.850560e+07\n",
       "..    ...        ...        ...           ...           ...           ...\n",
       "160   265  17.453298   8.315375  2.366852e+07    740.072080  2.853559e+07\n",
       "161   266  21.306693  12.492308  3.056943e+07    636.690490  2.680919e+07\n",
       "162   267  20.685819  12.355746  2.792421e+07    647.155118  3.035513e+07\n",
       "163   268  31.664141   8.321775  2.921652e+07    750.738745  3.849896e+07\n",
       "164   270  42.569307   6.042464  3.114576e+07    844.662439  4.152585e+07\n",
       "\n",
       "[165 rows x 6 columns]"
      ]
     },
     "execution_count": 97,
     "metadata": {},
     "output_type": "execute_result"
    }
   ],
   "source": [
    "df1"
   ]
  },
  {
   "cell_type": "code",
   "execution_count": 98,
   "id": "f37c21f3",
   "metadata": {},
   "outputs": [],
   "source": [
    "cc1 = df1.iloc[:,1:]"
   ]
  },
  {
   "cell_type": "code",
   "execution_count": 99,
   "id": "d9c63ac3",
   "metadata": {},
   "outputs": [],
   "source": [
    "sc1 = StandardScaler()\n",
    "cc1_scaled = sc1.fit_transform(cc1)"
   ]
  },
  {
   "cell_type": "code",
   "execution_count": 100,
   "id": "a643fc74",
   "metadata": {},
   "outputs": [],
   "source": [
    "cc1_scaled = pd.DataFrame(cc1_scaled, columns = cc1.columns)"
   ]
  },
  {
   "cell_type": "code",
   "execution_count": 101,
   "id": "9bb4b12f",
   "metadata": {},
   "outputs": [
    {
     "name": "stderr",
     "output_type": "stream",
     "text": [
      "C:\\Users\\jbhyu\\anaconda3\\lib\\site-packages\\sklearn\\cluster\\_kmeans.py:1334: UserWarning: KMeans is known to have a memory leak on Windows with MKL, when there are less chunks than available threads. You can avoid it by setting the environment variable OMP_NUM_THREADS=1.\n",
      "  warnings.warn(\n",
      "C:\\Users\\jbhyu\\anaconda3\\lib\\site-packages\\sklearn\\cluster\\_kmeans.py:1334: UserWarning: KMeans is known to have a memory leak on Windows with MKL, when there are less chunks than available threads. You can avoid it by setting the environment variable OMP_NUM_THREADS=1.\n",
      "  warnings.warn(\n"
     ]
    },
    {
     "name": "stdout",
     "output_type": "stream",
     "text": [
      "0\n",
      "1\n"
     ]
    },
    {
     "name": "stderr",
     "output_type": "stream",
     "text": [
      "C:\\Users\\jbhyu\\anaconda3\\lib\\site-packages\\sklearn\\cluster\\_kmeans.py:1334: UserWarning: KMeans is known to have a memory leak on Windows with MKL, when there are less chunks than available threads. You can avoid it by setting the environment variable OMP_NUM_THREADS=1.\n",
      "  warnings.warn(\n",
      "C:\\Users\\jbhyu\\anaconda3\\lib\\site-packages\\sklearn\\cluster\\_kmeans.py:1334: UserWarning: KMeans is known to have a memory leak on Windows with MKL, when there are less chunks than available threads. You can avoid it by setting the environment variable OMP_NUM_THREADS=1.\n",
      "  warnings.warn(\n"
     ]
    },
    {
     "name": "stdout",
     "output_type": "stream",
     "text": [
      "2\n",
      "3\n"
     ]
    },
    {
     "name": "stderr",
     "output_type": "stream",
     "text": [
      "C:\\Users\\jbhyu\\anaconda3\\lib\\site-packages\\sklearn\\cluster\\_kmeans.py:1334: UserWarning: KMeans is known to have a memory leak on Windows with MKL, when there are less chunks than available threads. You can avoid it by setting the environment variable OMP_NUM_THREADS=1.\n",
      "  warnings.warn(\n",
      "C:\\Users\\jbhyu\\anaconda3\\lib\\site-packages\\sklearn\\cluster\\_kmeans.py:1334: UserWarning: KMeans is known to have a memory leak on Windows with MKL, when there are less chunks than available threads. You can avoid it by setting the environment variable OMP_NUM_THREADS=1.\n",
      "  warnings.warn(\n"
     ]
    },
    {
     "name": "stdout",
     "output_type": "stream",
     "text": [
      "4\n",
      "5\n"
     ]
    },
    {
     "name": "stderr",
     "output_type": "stream",
     "text": [
      "C:\\Users\\jbhyu\\anaconda3\\lib\\site-packages\\sklearn\\cluster\\_kmeans.py:1334: UserWarning: KMeans is known to have a memory leak on Windows with MKL, when there are less chunks than available threads. You can avoid it by setting the environment variable OMP_NUM_THREADS=1.\n",
      "  warnings.warn(\n",
      "C:\\Users\\jbhyu\\anaconda3\\lib\\site-packages\\sklearn\\cluster\\_kmeans.py:1334: UserWarning: KMeans is known to have a memory leak on Windows with MKL, when there are less chunks than available threads. You can avoid it by setting the environment variable OMP_NUM_THREADS=1.\n",
      "  warnings.warn(\n"
     ]
    },
    {
     "name": "stdout",
     "output_type": "stream",
     "text": [
      "6\n",
      "7\n"
     ]
    },
    {
     "name": "stderr",
     "output_type": "stream",
     "text": [
      "C:\\Users\\jbhyu\\anaconda3\\lib\\site-packages\\sklearn\\cluster\\_kmeans.py:1334: UserWarning: KMeans is known to have a memory leak on Windows with MKL, when there are less chunks than available threads. You can avoid it by setting the environment variable OMP_NUM_THREADS=1.\n",
      "  warnings.warn(\n",
      "C:\\Users\\jbhyu\\anaconda3\\lib\\site-packages\\sklearn\\cluster\\_kmeans.py:1334: UserWarning: KMeans is known to have a memory leak on Windows with MKL, when there are less chunks than available threads. You can avoid it by setting the environment variable OMP_NUM_THREADS=1.\n",
      "  warnings.warn(\n"
     ]
    },
    {
     "name": "stdout",
     "output_type": "stream",
     "text": [
      "8\n",
      "9\n"
     ]
    }
   ],
   "source": [
    "wcss = []\n",
    "iters = 0\n",
    "\n",
    "for i in range(1, 11):\n",
    "    kmeans = KMeans(n_clusters=i, random_state=0)\n",
    "    kmeans.fit(cc1_scaled)\n",
    "    \n",
    "    name = \"cluster\" + str(i)\n",
    "    \n",
    "    pred = kmeans.predict(cc1_scaled)    \n",
    "    \n",
    "    cc1_scaled[name] = pred\n",
    "    \n",
    "    wcss.append(kmeans.inertia_)\n",
    "    print(iters)\n",
    "    iters+=1"
   ]
  },
  {
   "cell_type": "code",
   "execution_count": 102,
   "id": "45b37ea5",
   "metadata": {},
   "outputs": [
    {
     "data": {
      "image/png": "[encoded data removed]",
      "text/plain": [
       "<Figure size 432x288 with 1 Axes>"
      ]
     },
     "metadata": {
      "needs_background": "light"
     },
     "output_type": "display_data"
    }
   ],
   "source": [
    "plt.plot(range(1, 11), wcss, marker = 'o')\n",
    "plt.title('Selecting the Numbeer of Clusters using the Elbow Method')\n",
    "plt.xlabel('Clusters')\n",
    "plt.ylabel('WCSS')\n",
    "plt.show()"
   ]
  },
  {
   "cell_type": "code",
   "execution_count": 103,
   "id": "e9b93578",
   "metadata": {},
   "outputs": [],
   "source": [
    "def clust_paint(col, clus_name):\n",
    "    col_ = col+[clus_name]\n",
    "    print(col_)\n",
    "    cc_test = cc1_scaled[col_]\n",
    "    display(cc_test.groupby(clus_name).count())\n",
    "    pca = PCA(n_components =2)\n",
    "    pca.fit(cc_test)\n",
    "    x_pca = pca.transform(cc_test)\n",
    "    pca_df = pd.DataFrame(x_pca)\n",
    "    pca_df[clus_name] = cc_test[clus_name]\n",
    "    \n",
    "    for i in sorted(pca_df[clus_name].unique()):\n",
    "        tmp = pca_df.loc[pca_df[clus_name] == i] #해당하는 클러스터 번호일 때 그림을 그리고, for문 실행하며 위에 덧그림 \n",
    "        plt.scatter(tmp[0], tmp[1])\n",
    "        plt.legend(sorted(pca_df[clus_name].unique()))\n",
    "    plt.show()"
   ]
  },
  {
   "cell_type": "code",
   "execution_count": 104,
   "id": "578a1a41",
   "metadata": {},
   "outputs": [],
   "source": [
    "col = [\"추천상품수\",\"승인금리\",\"승인한도\",\"한도조회당시유저신용점수\",\"대출희망금액\"]\n",
    "clus_name = [\"cluster4\",\"cluster5\",\"cluster6\",\"cluster7\"]"
   ]
  },
  {
   "cell_type": "code",
   "execution_count": 105,
   "id": "507b14d9",
   "metadata": {
    "scrolled": false
   },
   "outputs": [
    {
     "name": "stdout",
     "output_type": "stream",
     "text": [
      "['추천상품수', '승인금리', '승인한도', '한도조회당시유저신용점수', '대출희망금액', 'cluster4']\n"
     ]
    },
    {
     "data": {
      "text/html": [
       "<div>\n",
       "<style scoped>\n",
       "    .dataframe tbody tr th:only-of-type {\n",
       "        vertical-align: middle;\n",
       "    }\n",
       "\n",
       "    .dataframe tbody tr th {\n",
       "        vertical-align: top;\n",
       "    }\n",
       "\n",
       "    .dataframe thead th {\n",
       "        text-align: right;\n",
       "    }\n",
       "</style>\n",
       "<table border=\"1\" class=\"dataframe\">\n",
       "  <thead>\n",
       "    <tr style=\"text-align: right;\">\n",
       "      <th></th>\n",
       "      <th>추천상품수</th>\n",
       "      <th>승인금리</th>\n",
       "      <th>승인한도</th>\n",
       "      <th>한도조회당시유저신용점수</th>\n",
       "      <th>대출희망금액</th>\n",
       "    </tr>\n",
       "    <tr>\n",
       "      <th>cluster4</th>\n",
       "      <th></th>\n",
       "      <th></th>\n",
       "      <th></th>\n",
       "      <th></th>\n",
       "      <th></th>\n",
       "    </tr>\n",
       "  </thead>\n",
       "  <tbody>\n",
       "    <tr>\n",
       "      <th>0</th>\n",
       "      <td>70</td>\n",
       "      <td>70</td>\n",
       "      <td>70</td>\n",
       "      <td>70</td>\n",
       "      <td>70</td>\n",
       "    </tr>\n",
       "    <tr>\n",
       "      <th>1</th>\n",
       "      <td>31</td>\n",
       "      <td>31</td>\n",
       "      <td>31</td>\n",
       "      <td>31</td>\n",
       "      <td>31</td>\n",
       "    </tr>\n",
       "    <tr>\n",
       "      <th>2</th>\n",
       "      <td>63</td>\n",
       "      <td>63</td>\n",
       "      <td>63</td>\n",
       "      <td>63</td>\n",
       "      <td>63</td>\n",
       "    </tr>\n",
       "    <tr>\n",
       "      <th>3</th>\n",
       "      <td>1</td>\n",
       "      <td>1</td>\n",
       "      <td>1</td>\n",
       "      <td>1</td>\n",
       "      <td>1</td>\n",
       "    </tr>\n",
       "  </tbody>\n",
       "</table>\n",
       "</div>"
      ],
      "text/plain": [
       "          추천상품수  승인금리  승인한도  한도조회당시유저신용점수  대출희망금액\n",
       "cluster4                                         \n",
       "0            70    70    70            70      70\n",
       "1            31    31    31            31      31\n",
       "2            63    63    63            63      63\n",
       "3             1     1     1             1       1"
      ]
     },
     "metadata": {},
     "output_type": "display_data"
    },
    {
     "data": {
      "image/png": "[encoded data removed]",
      "text/plain": [
       "<Figure size 432x288 with 1 Axes>"
      ]
     },
     "metadata": {
      "needs_background": "light"
     },
     "output_type": "display_data"
    },
    {
     "name": "stdout",
     "output_type": "stream",
     "text": [
      "['추천상품수', '승인금리', '승인한도', '한도조회당시유저신용점수', '대출희망금액', 'cluster5']\n"
     ]
    },
    {
     "data": {
      "text/html": [
       "<div>\n",
       "<style scoped>\n",
       "    .dataframe tbody tr th:only-of-type {\n",
       "        vertical-align: middle;\n",
       "    }\n",
       "\n",
       "    .dataframe tbody tr th {\n",
       "        vertical-align: top;\n",
       "    }\n",
       "\n",
       "    .dataframe thead th {\n",
       "        text-align: right;\n",
       "    }\n",
       "</style>\n",
       "<table border=\"1\" class=\"dataframe\">\n",
       "  <thead>\n",
       "    <tr style=\"text-align: right;\">\n",
       "      <th></th>\n",
       "      <th>추천상품수</th>\n",
       "      <th>승인금리</th>\n",
       "      <th>승인한도</th>\n",
       "      <th>한도조회당시유저신용점수</th>\n",
       "      <th>대출희망금액</th>\n",
       "    </tr>\n",
       "    <tr>\n",
       "      <th>cluster5</th>\n",
       "      <th></th>\n",
       "      <th></th>\n",
       "      <th></th>\n",
       "      <th></th>\n",
       "      <th></th>\n",
       "    </tr>\n",
       "  </thead>\n",
       "  <tbody>\n",
       "    <tr>\n",
       "      <th>0</th>\n",
       "      <td>20</td>\n",
       "      <td>20</td>\n",
       "      <td>20</td>\n",
       "      <td>20</td>\n",
       "      <td>20</td>\n",
       "    </tr>\n",
       "    <tr>\n",
       "      <th>1</th>\n",
       "      <td>63</td>\n",
       "      <td>63</td>\n",
       "      <td>63</td>\n",
       "      <td>63</td>\n",
       "      <td>63</td>\n",
       "    </tr>\n",
       "    <tr>\n",
       "      <th>2</th>\n",
       "      <td>31</td>\n",
       "      <td>31</td>\n",
       "      <td>31</td>\n",
       "      <td>31</td>\n",
       "      <td>31</td>\n",
       "    </tr>\n",
       "    <tr>\n",
       "      <th>3</th>\n",
       "      <td>1</td>\n",
       "      <td>1</td>\n",
       "      <td>1</td>\n",
       "      <td>1</td>\n",
       "      <td>1</td>\n",
       "    </tr>\n",
       "    <tr>\n",
       "      <th>4</th>\n",
       "      <td>50</td>\n",
       "      <td>50</td>\n",
       "      <td>50</td>\n",
       "      <td>50</td>\n",
       "      <td>50</td>\n",
       "    </tr>\n",
       "  </tbody>\n",
       "</table>\n",
       "</div>"
      ],
      "text/plain": [
       "          추천상품수  승인금리  승인한도  한도조회당시유저신용점수  대출희망금액\n",
       "cluster5                                         \n",
       "0            20    20    20            20      20\n",
       "1            63    63    63            63      63\n",
       "2            31    31    31            31      31\n",
       "3             1     1     1             1       1\n",
       "4            50    50    50            50      50"
      ]
     },
     "metadata": {},
     "output_type": "display_data"
    },
    {
     "data": {
      "image/png": "[encoded data removed]",
      "text/plain": [
       "<Figure size 432x288 with 1 Axes>"
      ]
     },
     "metadata": {
      "needs_background": "light"
     },
     "output_type": "display_data"
    },
    {
     "name": "stdout",
     "output_type": "stream",
     "text": [
      "['추천상품수', '승인금리', '승인한도', '한도조회당시유저신용점수', '대출희망금액', 'cluster6']\n"
     ]
    },
    {
     "data": {
      "text/html": [
       "<div>\n",
       "<style scoped>\n",
       "    .dataframe tbody tr th:only-of-type {\n",
       "        vertical-align: middle;\n",
       "    }\n",
       "\n",
       "    .dataframe tbody tr th {\n",
       "        vertical-align: top;\n",
       "    }\n",
       "\n",
       "    .dataframe thead th {\n",
       "        text-align: right;\n",
       "    }\n",
       "</style>\n",
       "<table border=\"1\" class=\"dataframe\">\n",
       "  <thead>\n",
       "    <tr style=\"text-align: right;\">\n",
       "      <th></th>\n",
       "      <th>추천상품수</th>\n",
       "      <th>승인금리</th>\n",
       "      <th>승인한도</th>\n",
       "      <th>한도조회당시유저신용점수</th>\n",
       "      <th>대출희망금액</th>\n",
       "    </tr>\n",
       "    <tr>\n",
       "      <th>cluster6</th>\n",
       "      <th></th>\n",
       "      <th></th>\n",
       "      <th></th>\n",
       "      <th></th>\n",
       "      <th></th>\n",
       "    </tr>\n",
       "  </thead>\n",
       "  <tbody>\n",
       "    <tr>\n",
       "      <th>0</th>\n",
       "      <td>63</td>\n",
       "      <td>63</td>\n",
       "      <td>63</td>\n",
       "      <td>63</td>\n",
       "      <td>63</td>\n",
       "    </tr>\n",
       "    <tr>\n",
       "      <th>1</th>\n",
       "      <td>16</td>\n",
       "      <td>16</td>\n",
       "      <td>16</td>\n",
       "      <td>16</td>\n",
       "      <td>16</td>\n",
       "    </tr>\n",
       "    <tr>\n",
       "      <th>2</th>\n",
       "      <td>20</td>\n",
       "      <td>20</td>\n",
       "      <td>20</td>\n",
       "      <td>20</td>\n",
       "      <td>20</td>\n",
       "    </tr>\n",
       "    <tr>\n",
       "      <th>3</th>\n",
       "      <td>50</td>\n",
       "      <td>50</td>\n",
       "      <td>50</td>\n",
       "      <td>50</td>\n",
       "      <td>50</td>\n",
       "    </tr>\n",
       "    <tr>\n",
       "      <th>4</th>\n",
       "      <td>1</td>\n",
       "      <td>1</td>\n",
       "      <td>1</td>\n",
       "      <td>1</td>\n",
       "      <td>1</td>\n",
       "    </tr>\n",
       "    <tr>\n",
       "      <th>5</th>\n",
       "      <td>15</td>\n",
       "      <td>15</td>\n",
       "      <td>15</td>\n",
       "      <td>15</td>\n",
       "      <td>15</td>\n",
       "    </tr>\n",
       "  </tbody>\n",
       "</table>\n",
       "</div>"
      ],
      "text/plain": [
       "          추천상품수  승인금리  승인한도  한도조회당시유저신용점수  대출희망금액\n",
       "cluster6                                         \n",
       "0            63    63    63            63      63\n",
       "1            16    16    16            16      16\n",
       "2            20    20    20            20      20\n",
       "3            50    50    50            50      50\n",
       "4             1     1     1             1       1\n",
       "5            15    15    15            15      15"
      ]
     },
     "metadata": {},
     "output_type": "display_data"
    },
    {
     "data": {
      "image/png": "[encoded data removed]",
      "text/plain": [
       "<Figure size 432x288 with 1 Axes>"
      ]
     },
     "metadata": {
      "needs_background": "light"
     },
     "output_type": "display_data"
    },
    {
     "name": "stdout",
     "output_type": "stream",
     "text": [
      "['추천상품수', '승인금리', '승인한도', '한도조회당시유저신용점수', '대출희망금액', 'cluster7']\n"
     ]
    },
    {
     "data": {
      "text/html": [
       "<div>\n",
       "<style scoped>\n",
       "    .dataframe tbody tr th:only-of-type {\n",
       "        vertical-align: middle;\n",
       "    }\n",
       "\n",
       "    .dataframe tbody tr th {\n",
       "        vertical-align: top;\n",
       "    }\n",
       "\n",
       "    .dataframe thead th {\n",
       "        text-align: right;\n",
       "    }\n",
       "</style>\n",
       "<table border=\"1\" class=\"dataframe\">\n",
       "  <thead>\n",
       "    <tr style=\"text-align: right;\">\n",
       "      <th></th>\n",
       "      <th>추천상품수</th>\n",
       "      <th>승인금리</th>\n",
       "      <th>승인한도</th>\n",
       "      <th>한도조회당시유저신용점수</th>\n",
       "      <th>대출희망금액</th>\n",
       "    </tr>\n",
       "    <tr>\n",
       "      <th>cluster7</th>\n",
       "      <th></th>\n",
       "      <th></th>\n",
       "      <th></th>\n",
       "      <th></th>\n",
       "      <th></th>\n",
       "    </tr>\n",
       "  </thead>\n",
       "  <tbody>\n",
       "    <tr>\n",
       "      <th>0</th>\n",
       "      <td>50</td>\n",
       "      <td>50</td>\n",
       "      <td>50</td>\n",
       "      <td>50</td>\n",
       "      <td>50</td>\n",
       "    </tr>\n",
       "    <tr>\n",
       "      <th>1</th>\n",
       "      <td>63</td>\n",
       "      <td>63</td>\n",
       "      <td>63</td>\n",
       "      <td>63</td>\n",
       "      <td>63</td>\n",
       "    </tr>\n",
       "    <tr>\n",
       "      <th>2</th>\n",
       "      <td>15</td>\n",
       "      <td>15</td>\n",
       "      <td>15</td>\n",
       "      <td>15</td>\n",
       "      <td>15</td>\n",
       "    </tr>\n",
       "    <tr>\n",
       "      <th>3</th>\n",
       "      <td>20</td>\n",
       "      <td>20</td>\n",
       "      <td>20</td>\n",
       "      <td>20</td>\n",
       "      <td>20</td>\n",
       "    </tr>\n",
       "    <tr>\n",
       "      <th>4</th>\n",
       "      <td>14</td>\n",
       "      <td>14</td>\n",
       "      <td>14</td>\n",
       "      <td>14</td>\n",
       "      <td>14</td>\n",
       "    </tr>\n",
       "    <tr>\n",
       "      <th>5</th>\n",
       "      <td>2</td>\n",
       "      <td>2</td>\n",
       "      <td>2</td>\n",
       "      <td>2</td>\n",
       "      <td>2</td>\n",
       "    </tr>\n",
       "    <tr>\n",
       "      <th>6</th>\n",
       "      <td>1</td>\n",
       "      <td>1</td>\n",
       "      <td>1</td>\n",
       "      <td>1</td>\n",
       "      <td>1</td>\n",
       "    </tr>\n",
       "  </tbody>\n",
       "</table>\n",
       "</div>"
      ],
      "text/plain": [
       "          추천상품수  승인금리  승인한도  한도조회당시유저신용점수  대출희망금액\n",
       "cluster7                                         \n",
       "0            50    50    50            50      50\n",
       "1            63    63    63            63      63\n",
       "2            15    15    15            15      15\n",
       "3            20    20    20            20      20\n",
       "4            14    14    14            14      14\n",
       "5             2     2     2             2       2\n",
       "6             1     1     1             1       1"
      ]
     },
     "metadata": {},
     "output_type": "display_data"
    },
    {
     "data": {
      "image/png": "[encoded data removed]",
      "text/plain": [
       "<Figure size 432x288 with 1 Axes>"
      ]
     },
     "metadata": {
      "needs_background": "light"
     },
     "output_type": "display_data"
    }
   ],
   "source": [
    "for name in clus_name:\n",
    "    clust_paint(col,name)"
   ]
  },
  {
   "cell_type": "code",
   "execution_count": 106,
   "id": "92070cf9",
   "metadata": {},
   "outputs": [],
   "source": [
    "df1[\"상품군집\"] = cc1_scaled[\"cluster5\"]"
   ]
  },
  {
   "cell_type": "code",
   "execution_count": 107,
   "id": "cf8ee44e",
   "metadata": {},
   "outputs": [
    {
     "data": {
      "text/html": [
       "<div>\n",
       "<style scoped>\n",
       "    .dataframe tbody tr th:only-of-type {\n",
       "        vertical-align: middle;\n",
       "    }\n",
       "\n",
       "    .dataframe tbody tr th {\n",
       "        vertical-align: top;\n",
       "    }\n",
       "\n",
       "    .dataframe thead th {\n",
       "        text-align: right;\n",
       "    }\n",
       "</style>\n",
       "<table border=\"1\" class=\"dataframe\">\n",
       "  <thead>\n",
       "    <tr style=\"text-align: right;\">\n",
       "      <th></th>\n",
       "      <th>상품군집</th>\n",
       "      <th>추천상품수</th>\n",
       "      <th>승인금리</th>\n",
       "      <th>승인한도</th>\n",
       "      <th>한도조회당시유저신용점수</th>\n",
       "      <th>대출희망금액</th>\n",
       "    </tr>\n",
       "  </thead>\n",
       "  <tbody>\n",
       "    <tr>\n",
       "      <th>0</th>\n",
       "      <td>0</td>\n",
       "      <td>12.328510</td>\n",
       "      <td>7.736904</td>\n",
       "      <td>1.129410e+07</td>\n",
       "      <td>642.776889</td>\n",
       "      <td>1.651452e+07</td>\n",
       "    </tr>\n",
       "    <tr>\n",
       "      <th>1</th>\n",
       "      <td>1</td>\n",
       "      <td>6.923687</td>\n",
       "      <td>16.447202</td>\n",
       "      <td>1.594592e+07</td>\n",
       "      <td>623.001748</td>\n",
       "      <td>2.099337e+07</td>\n",
       "    </tr>\n",
       "    <tr>\n",
       "      <th>2</th>\n",
       "      <td>2</td>\n",
       "      <td>27.625415</td>\n",
       "      <td>9.188338</td>\n",
       "      <td>3.378016e+07</td>\n",
       "      <td>778.218138</td>\n",
       "      <td>4.060585e+07</td>\n",
       "    </tr>\n",
       "    <tr>\n",
       "      <th>3</th>\n",
       "      <td>3</td>\n",
       "      <td>13.133858</td>\n",
       "      <td>8.605512</td>\n",
       "      <td>2.600630e+08</td>\n",
       "      <td>700.561680</td>\n",
       "      <td>9.016535e+07</td>\n",
       "    </tr>\n",
       "    <tr>\n",
       "      <th>4</th>\n",
       "      <td>4</td>\n",
       "      <td>13.260604</td>\n",
       "      <td>13.386782</td>\n",
       "      <td>2.462101e+07</td>\n",
       "      <td>687.034124</td>\n",
       "      <td>2.907305e+07</td>\n",
       "    </tr>\n",
       "  </tbody>\n",
       "</table>\n",
       "</div>"
      ],
      "text/plain": [
       "   상품군집      추천상품수       승인금리          승인한도  한도조회당시유저신용점수        대출희망금액\n",
       "0     0  12.328510   7.736904  1.129410e+07    642.776889  1.651452e+07\n",
       "1     1   6.923687  16.447202  1.594592e+07    623.001748  2.099337e+07\n",
       "2     2  27.625415   9.188338  3.378016e+07    778.218138  4.060585e+07\n",
       "3     3  13.133858   8.605512  2.600630e+08    700.561680  9.016535e+07\n",
       "4     4  13.260604  13.386782  2.462101e+07    687.034124  2.907305e+07"
      ]
     },
     "metadata": {},
     "output_type": "display_data"
    }
   ],
   "source": [
    "result_pd = df1.groupby(\"상품군집\").mean().reset_index()\n",
    "result_pd = result_pd.drop(\"상품번호\", axis=1)\n",
    "display(result_pd)"
   ]
  },
  {
   "cell_type": "code",
   "execution_count": 108,
   "id": "ff4c3eed",
   "metadata": {},
   "outputs": [
    {
     "data": {
      "text/html": [
       "<div>\n",
       "<style scoped>\n",
       "    .dataframe tbody tr th:only-of-type {\n",
       "        vertical-align: middle;\n",
       "    }\n",
       "\n",
       "    .dataframe tbody tr th {\n",
       "        vertical-align: top;\n",
       "    }\n",
       "\n",
       "    .dataframe thead th {\n",
       "        text-align: right;\n",
       "    }\n",
       "</style>\n",
       "<table border=\"1\" class=\"dataframe\">\n",
       "  <thead>\n",
       "    <tr style=\"text-align: right;\">\n",
       "      <th></th>\n",
       "      <th>상품번호</th>\n",
       "      <th>추천상품수</th>\n",
       "      <th>승인금리</th>\n",
       "      <th>승인한도</th>\n",
       "      <th>한도조회당시유저신용점수</th>\n",
       "      <th>대출희망금액</th>\n",
       "      <th>상품군집</th>\n",
       "    </tr>\n",
       "  </thead>\n",
       "  <tbody>\n",
       "    <tr>\n",
       "      <th>0</th>\n",
       "      <td>1</td>\n",
       "      <td>11.724138</td>\n",
       "      <td>11.692909</td>\n",
       "      <td>2.961429e+07</td>\n",
       "      <td>688.508931</td>\n",
       "      <td>2.948888e+07</td>\n",
       "      <td>4</td>\n",
       "    </tr>\n",
       "    <tr>\n",
       "      <th>1</th>\n",
       "      <td>5</td>\n",
       "      <td>4.111747</td>\n",
       "      <td>17.546966</td>\n",
       "      <td>1.079101e+07</td>\n",
       "      <td>636.206627</td>\n",
       "      <td>2.401879e+07</td>\n",
       "      <td>1</td>\n",
       "    </tr>\n",
       "    <tr>\n",
       "      <th>2</th>\n",
       "      <td>7</td>\n",
       "      <td>11.474012</td>\n",
       "      <td>13.521816</td>\n",
       "      <td>3.085944e+07</td>\n",
       "      <td>628.205108</td>\n",
       "      <td>3.871193e+07</td>\n",
       "      <td>4</td>\n",
       "    </tr>\n",
       "    <tr>\n",
       "      <th>3</th>\n",
       "      <td>8</td>\n",
       "      <td>9.341369</td>\n",
       "      <td>15.454098</td>\n",
       "      <td>1.222372e+07</td>\n",
       "      <td>670.344601</td>\n",
       "      <td>2.887271e+07</td>\n",
       "      <td>1</td>\n",
       "    </tr>\n",
       "    <tr>\n",
       "      <th>4</th>\n",
       "      <td>12</td>\n",
       "      <td>9.841600</td>\n",
       "      <td>13.828000</td>\n",
       "      <td>1.903680e+07</td>\n",
       "      <td>728.867421</td>\n",
       "      <td>1.850560e+07</td>\n",
       "      <td>4</td>\n",
       "    </tr>\n",
       "    <tr>\n",
       "      <th>...</th>\n",
       "      <td>...</td>\n",
       "      <td>...</td>\n",
       "      <td>...</td>\n",
       "      <td>...</td>\n",
       "      <td>...</td>\n",
       "      <td>...</td>\n",
       "      <td>...</td>\n",
       "    </tr>\n",
       "    <tr>\n",
       "      <th>160</th>\n",
       "      <td>265</td>\n",
       "      <td>17.453298</td>\n",
       "      <td>8.315375</td>\n",
       "      <td>2.366852e+07</td>\n",
       "      <td>740.072080</td>\n",
       "      <td>2.853559e+07</td>\n",
       "      <td>2</td>\n",
       "    </tr>\n",
       "    <tr>\n",
       "      <th>161</th>\n",
       "      <td>266</td>\n",
       "      <td>21.306693</td>\n",
       "      <td>12.492308</td>\n",
       "      <td>3.056943e+07</td>\n",
       "      <td>636.690490</td>\n",
       "      <td>2.680919e+07</td>\n",
       "      <td>4</td>\n",
       "    </tr>\n",
       "    <tr>\n",
       "      <th>162</th>\n",
       "      <td>267</td>\n",
       "      <td>20.685819</td>\n",
       "      <td>12.355746</td>\n",
       "      <td>2.792421e+07</td>\n",
       "      <td>647.155118</td>\n",
       "      <td>3.035513e+07</td>\n",
       "      <td>4</td>\n",
       "    </tr>\n",
       "    <tr>\n",
       "      <th>163</th>\n",
       "      <td>268</td>\n",
       "      <td>31.664141</td>\n",
       "      <td>8.321775</td>\n",
       "      <td>2.921652e+07</td>\n",
       "      <td>750.738745</td>\n",
       "      <td>3.849896e+07</td>\n",
       "      <td>2</td>\n",
       "    </tr>\n",
       "    <tr>\n",
       "      <th>164</th>\n",
       "      <td>270</td>\n",
       "      <td>42.569307</td>\n",
       "      <td>6.042464</td>\n",
       "      <td>3.114576e+07</td>\n",
       "      <td>844.662439</td>\n",
       "      <td>4.152585e+07</td>\n",
       "      <td>2</td>\n",
       "    </tr>\n",
       "  </tbody>\n",
       "</table>\n",
       "<p>165 rows × 7 columns</p>\n",
       "</div>"
      ],
      "text/plain": [
       "     상품번호      추천상품수       승인금리          승인한도  한도조회당시유저신용점수        대출희망금액  \\\n",
       "0       1  11.724138  11.692909  2.961429e+07    688.508931  2.948888e+07   \n",
       "1       5   4.111747  17.546966  1.079101e+07    636.206627  2.401879e+07   \n",
       "2       7  11.474012  13.521816  3.085944e+07    628.205108  3.871193e+07   \n",
       "3       8   9.341369  15.454098  1.222372e+07    670.344601  2.887271e+07   \n",
       "4      12   9.841600  13.828000  1.903680e+07    728.867421  1.850560e+07   \n",
       "..    ...        ...        ...           ...           ...           ...   \n",
       "160   265  17.453298   8.315375  2.366852e+07    740.072080  2.853559e+07   \n",
       "161   266  21.306693  12.492308  3.056943e+07    636.690490  2.680919e+07   \n",
       "162   267  20.685819  12.355746  2.792421e+07    647.155118  3.035513e+07   \n",
       "163   268  31.664141   8.321775  2.921652e+07    750.738745  3.849896e+07   \n",
       "164   270  42.569307   6.042464  3.114576e+07    844.662439  4.152585e+07   \n",
       "\n",
       "     상품군집  \n",
       "0       4  \n",
       "1       1  \n",
       "2       4  \n",
       "3       1  \n",
       "4       4  \n",
       "..    ...  \n",
       "160     2  \n",
       "161     4  \n",
       "162     4  \n",
       "163     2  \n",
       "164     2  \n",
       "\n",
       "[165 rows x 7 columns]"
      ]
     },
     "execution_count": 108,
     "metadata": {},
     "output_type": "execute_result"
    }
   ],
   "source": [
    "df1"
   ]
  },
  {
   "cell_type": "code",
   "execution_count": 115,
   "id": "dcd81f69",
   "metadata": {},
   "outputs": [],
   "source": [
    "product_info = {}\n",
    "for i in sorted(set(df1[\"상품군집\"].values)):\n",
    "    label = \"상품군집{}\".format(i)\n",
    "    product_info[label]=df1[df1[\"상품군집\"]==i][\"상품번호\"].values"
   ]
  },
  {
   "cell_type": "code",
   "execution_count": 116,
   "id": "24b85b56",
   "metadata": {},
   "outputs": [
    {
     "data": {
      "text/plain": [
       "{'상품군집0': array([ 47,  48,  75,  78, 103, 127, 134, 136, 148, 164, 184, 187, 189,\n",
       "        190, 195, 225, 229, 251, 257, 261], dtype=int64),\n",
       " '상품군집1': array([  5,   8,  16,  19,  29,  36,  38,  39,  43,  51,  55,  56,  57,\n",
       "         70,  79,  81,  82,  85,  86,  93,  98, 100, 107, 110, 113, 118,\n",
       "        123, 124, 126, 139, 149, 150, 152, 157, 159, 161, 162, 168, 169,\n",
       "        174, 186, 191, 192, 197, 204, 205, 206, 215, 216, 217, 220, 221,\n",
       "        222, 223, 226, 231, 235, 239, 243, 248, 252, 263, 264], dtype=int64),\n",
       " '상품군집2': array([ 22,  26,  31,  35,  42,  46,  58,  59,  60,  63,  80,  92,  94,\n",
       "         96, 105, 119, 131, 144, 170, 181, 183, 185, 188, 234, 238, 246,\n",
       "        250, 259, 265, 268, 270], dtype=int64),\n",
       " '상품군집3': array([244], dtype=int64),\n",
       " '상품군집4': array([  1,   7,  12,  15,  20,  24,  25,  30,  40,  49,  61,  62,  65,\n",
       "         67,  68,  71,  90,  91, 108, 111, 114, 121, 128, 129, 137, 138,\n",
       "        140, 141, 142, 146, 147, 163, 171, 175, 176, 194, 196, 200, 224,\n",
       "        227, 233, 236, 245, 247, 249, 254, 258, 262, 266, 267], dtype=int64)}"
      ]
     },
     "execution_count": 116,
     "metadata": {},
     "output_type": "execute_result"
    }
   ],
   "source": [
    "product_info"
   ]
  },
  {
   "cell_type": "markdown",
   "id": "fff162a6",
   "metadata": {},
   "source": [
    "## 서비스에 대해서\n",
    "**가정: 여러번 대출된 상품은 대출이 잘 될 것이다.**\n",
    "\n",
    "**타겟값이 1인 애들의 정보를 이용하여 상품 군집을 만들었다.**\n",
    "\n",
    "**특정 고객의 추천상품수, 승인금리, 승인한도, 한도조회당시 유저신용점수, 대출희망금액을 받으면 어떤 군집에 속하는지 판단하고(거리를 이용해서 최소인 군집선정) 그 군집의 상품을 우선적으로 추천한다. 또 만약 추천되지 않았다면 나가기 전에 이런 상품도 있는데 한번 보실래요?라는 문구를 통해 대출 성공률을 높인다.**\n"
   ]
  }
 ],
 "metadata": {
  "kernelspec": {
   "display_name": "Python 3 (ipykernel)",
   "language": "python",
   "name": "python3"
  },
  "language_info": {
   "codemirror_mode": {
    "name": "ipython",
    "version": 3
   },
   "file_extension": ".py",
   "mimetype": "text/x-python",
   "name": "python",
   "nbconvert_exporter": "python",
   "pygments_lexer": "ipython3",
   "version": "3.9.12"
  }
 },
 "nbformat": 4,
 "nbformat_minor": 5
}
